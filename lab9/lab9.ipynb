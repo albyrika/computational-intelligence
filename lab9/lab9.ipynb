{
 "cells": [
  {
   "cell_type": "markdown",
   "metadata": {},
   "source": [
    "Copyright **`(c)`** 2023 Giovanni Squillero `<giovanni.squillero@polito.it>`  \n",
    "[`https://github.com/squillero/computational-intelligence`](https://github.com/squillero/computational-intelligence)  \n",
    "Free for personal or classroom use; see [`LICENSE.md`](https://github.com/squillero/computational-intelligence/blob/master/LICENSE.md) for details.  "
   ]
  },
  {
   "cell_type": "markdown",
   "metadata": {},
   "source": [
    "# LAB9\n",
    "\n",
    "Write a local-search algorithm (eg. an EA) able to solve the *Problem* instances 1, 2, 5, and 10 on a 1000-loci genomes, using a minimum number of fitness calls. That's all.\n",
    "\n",
    "### Deadlines:\n",
    "\n",
    "* Submission: Sunday, December 3 ([CET](https://www.timeanddate.com/time/zones/cet))\n",
    "* Reviews: Sunday, December 10 ([CET](https://www.timeanddate.com/time/zones/cet))\n",
    "\n",
    "Notes:\n",
    "\n",
    "* Reviews will be assigned  on Monday, December 4\n",
    "* You need to commit in order to be selected as a reviewer (ie. better to commit an empty work than not to commit)"
   ]
  },
  {
   "cell_type": "code",
   "execution_count": 1,
   "metadata": {},
   "outputs": [],
   "source": [
    "from random import choices\n",
    "from tqdm import tqdm\n",
    "import numpy\n",
    "\n",
    "import lab9_lib\n",
    "from GA import Ga, Individual\n",
    "from ES import Es, Hillclimber"
   ]
  },
  {
   "attachments": {},
   "cell_type": "markdown",
   "metadata": {},
   "source": [
    "Toy example to show how it works"
   ]
  },
  {
   "cell_type": "code",
   "execution_count": 2,
   "metadata": {},
   "outputs": [
    {
     "name": "stdout",
     "output_type": "stream",
     "text": [
      "11000110100000110101011110110101001101001100000000: 7.33%\n",
      "00100011100100110101110010110101101011110001001000: 15.33%\n",
      "00001111001110000011100011010010001110010000001011: 29.56%\n",
      "01111111101111110000110000100010011000100011110111: 15.33%\n",
      "01001011010101000100101101011101000000101010010001: 17.56%\n",
      "10100001101101111000011001111010011010110111101011: 15.33%\n",
      "10100101010010100011010011010000010110011010101100: 29.56%\n",
      "11010110110110011110111110001100010010111111011110: 9.11%\n",
      "00001010101011010111100001011111111101100000001000: 7.33%\n",
      "11000100010101011000101011110100101100110001001000: 7.34%\n",
      "10\n"
     ]
    }
   ],
   "source": [
    "fitness = lab9_lib.make_problem(10)\n",
    "for n in range(10):\n",
    "    ind = choices([0, 1], k=50)\n",
    "    # ind = [1] * 50\n",
    "    print(f\"{''.join(str(g) for g in ind)}: {fitness(ind):.2%}\")\n",
    "\n",
    "print(fitness.calls)"
   ]
  },
  {
   "attachments": {},
   "cell_type": "markdown",
   "metadata": {},
   "source": [
    "## Using ES\n",
    "the provided parameters are working in most of the cases"
   ]
  },
  {
   "cell_type": "code",
   "execution_count": 38,
   "metadata": {},
   "outputs": [
    {
     "name": "stdout",
     "output_type": "stream",
     "text": [
      "1 -> 100.00%, used 65 calls\n",
      "sigma: 0.9702605052368167\n",
      "nloci: 1200\n",
      "p1:  1 \n",
      "\n",
      "\n",
      "2 -> 100.00%, used 65 calls\n",
      "sigma: 0.9366349541677955\n",
      "nloci: 1200\n",
      "p1:  1 \n",
      "\n",
      "\n",
      "5 -> 100.00%, used 45 calls\n",
      "sigma: 1.0096446759489974\n",
      "nloci: 900\n",
      "p1:  1 \n",
      "\n",
      "\n",
      "10 -> 100.00%, used 305 calls\n",
      "sigma: 0.9759283578258094\n",
      "nloci: 1600\n",
      "p1:  1 \n",
      "\n",
      "\n"
     ]
    }
   ],
   "source": [
    "sizes = [1, 2, 5, 10]\n",
    "N_MUTATIONS = 100                                   # initial number of mutating genes\n",
    "SIGMA = 1                        \n",
    "PM = 0.9                                            # P to prefer mutation over xover\n",
    "PARAMETER_FREEZE_THRESHOLD = 0.9                    # fitness threshold after which the basic parameters are frozen (stop exploring)\n",
    "                                                    #  values >= 1 make the exploration go on \n",
    "\n",
    "POPULATION_SIZE = 5 if PM != 1 else 1               # can't do xover if only 1 guy is present, no? \n",
    "OFFSPRING_SIZE = 20\n",
    "\n",
    "for problem_size in sizes:\n",
    "    fitness = lab9_lib.make_problem(problem_size)\n",
    "    #initialize population\n",
    "    first_ones = [Hillclimber(numpy.array(choices([0, 1], k=1000)), fitness, N_MUTATIONS, SIGMA, PARAMETER_FREEZE_THRESHOLD) for _ in range(POPULATION_SIZE)]\n",
    "    population = Es(POPULATION_SIZE, OFFSPRING_SIZE, first_ones, PM)\n",
    "    \n",
    "    # usually converges way before, but it was put to limit the number of evaluations\n",
    "    for _ in range(100):\n",
    "        if population.generate_offspring() != False:\n",
    "            break\n",
    "    print(f\"{problem_size} -> {population.population[0].fitness:.2%}, used {fitness.calls} calls\")       \n",
    "    print('sigma:', population.population[0].sigma)\n",
    "    print('nloci:', population.population[0].nloci)\n",
    "    print('p1: ', population.population[0].p1, '\\n\\n')\n",
    "   \n"
   ]
  },
  {
   "attachments": {},
   "cell_type": "markdown",
   "metadata": {},
   "source": [
    "## We try to solve the problem using GA\n",
    "it does not work, i kept the code if you want to play around"
   ]
  },
  {
   "cell_type": "code",
   "execution_count": 30,
   "metadata": {},
   "outputs": [
    {
     "name": "stdout",
     "output_type": "stream",
     "text": [
      "1 -> 91.90%, used 30184 calls\n",
      "\n",
      "2 -> 47.79%, used 31563 calls\n",
      "\n",
      "5 -> 19.69%, used 31576 calls\n",
      "\n",
      "10 -> 14.42%, used 33319 calls\n",
      "\n"
     ]
    }
   ],
   "source": [
    "sizes = [1, 2, 5, 10]\n",
    "k = 1000\n",
    "\n",
    "POPULATION_SIZE = 10\n",
    "OFFSPRING_SIZE = 50\n",
    "N = 1\n",
    "PM = 0.2\n",
    "TOURNAMENT_SIZE = 2\n",
    "\n",
    "for problem_size in sizes:\n",
    "    fitness = lab9_lib.make_problem(problem_size)\n",
    "\n",
    "    population = Ga(POPULATION_SIZE, fitness, N)\n",
    "    for _ in range(100):\n",
    "        #try solve the problem\n",
    "        population.generate_offspring_1p(OFFSPRING_SIZE, PM, TOURNAMENT_SIZE)\n",
    "        population.survival_selection(POPULATION_SIZE)\n",
    "        if population.population[0].fitness == 1:\n",
    "            break\n",
    "\n",
    "    print(f\"{problem_size} -> {population.population[0].fitness:.2%}, used {fitness.calls} calls\\n\")"
   ]
  }
 ],
 "metadata": {
  "kernelspec": {
   "display_name": "ci-fLJ3OwGs-py3.12",
   "language": "python",
   "name": "python3"
  },
  "language_info": {
   "codemirror_mode": {
    "name": "ipython",
    "version": 3
   },
   "file_extension": ".py",
   "mimetype": "text/x-python",
   "name": "python",
   "nbconvert_exporter": "python",
   "pygments_lexer": "ipython3",
   "version": "3.10.12"
  }
 },
 "nbformat": 4,
 "nbformat_minor": 2
}
