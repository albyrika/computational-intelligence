{
 "cells": [
  {
   "cell_type": "markdown",
   "metadata": {},
   "source": [
    "Copyright **`(c)`** 2023 Giovanni Squillero `<giovanni.squillero@polito.it>`  \n",
    "[`https://github.com/squillero/computational-intelligence`](https://github.com/squillero/computational-intelligence)  \n",
    "Free for personal or classroom use; see [`LICENSE.md`](https://github.com/squillero/computational-intelligence/blob/master/LICENSE.md) for details.  "
   ]
  },
  {
   "cell_type": "markdown",
   "metadata": {},
   "source": [
    "# LAB9\n",
    "\n",
    "Write a local-search algorithm (eg. an EA) able to solve the *Problem* instances 1, 2, 5, and 10 on a 1000-loci genomes, using a minimum number of fitness calls. That's all.\n",
    "\n",
    "### Deadlines:\n",
    "\n",
    "* Submission: Sunday, December 3 ([CET](https://www.timeanddate.com/time/zones/cet))\n",
    "* Reviews: Sunday, December 10 ([CET](https://www.timeanddate.com/time/zones/cet))\n",
    "\n",
    "Notes:\n",
    "\n",
    "* Reviews will be assigned  on Monday, December 4\n",
    "* You need to commit in order to be selected as a reviewer (ie. better to commit an empty work than not to commit)"
   ]
  },
  {
   "cell_type": "code",
   "execution_count": 1,
   "metadata": {},
   "outputs": [],
   "source": [
    "from random import choices\n",
    "from tqdm import tqdm\n",
    "import numpy\n",
    "\n",
    "import lab9_lib\n",
    "from GA import Ga, Individual"
   ]
  },
  {
   "attachments": {},
   "cell_type": "markdown",
   "metadata": {},
   "source": [
    "Toy example to show how it works"
   ]
  },
  {
   "cell_type": "code",
   "execution_count": 2,
   "metadata": {},
   "outputs": [
    {
     "name": "stdout",
     "output_type": "stream",
     "text": [
      "11000000110010110110000101000010101011111010100001: 29.56%\n",
      "00101100110010101000011001111110100010001000111111: 15.33%\n",
      "11001010100010010111000110000000001010111001110111: 15.36%\n",
      "10011111111000100101111101111000111101111011101011: 47.33%\n",
      "10110111100000001111101010110100110011110110101010: 9.11%\n",
      "11101110000100111111110110000100011011001110101001: 9.11%\n",
      "11011111110000111101001111001000001011100010010011: 23.33%\n",
      "11000011111110001001011010011000010100100100011101: 7.33%\n",
      "10000010111101101100010010101001100011000000010101: 7.34%\n",
      "00010101111110101001101001100101001101101001000010: 23.56%\n",
      "10\n"
     ]
    }
   ],
   "source": [
    "fitness = lab9_lib.make_problem(10)\n",
    "for n in range(10):\n",
    "    ind = choices([0, 1], k=50)\n",
    "    # ind = [1] * 50\n",
    "    print(f\"{''.join(str(g) for g in ind)}: {fitness(ind):.2%}\")\n",
    "\n",
    "print(fitness.calls)"
   ]
  },
  {
   "attachments": {},
   "cell_type": "markdown",
   "metadata": {},
   "source": [
    "## Now we try to solve the problem using EAs or similar and minimize the number of fitness calls"
   ]
  },
  {
   "cell_type": "code",
   "execution_count": 43,
   "metadata": {},
   "outputs": [
    {
     "name": "stdout",
     "output_type": "stream",
     "text": [
      "1 -> 85.40%, used 50010 call(s)\n",
      "\n",
      "2 -> 74.80%, used 50010 call(s)\n",
      "\n",
      "5 -> 39.43%, used 50010 call(s)\n",
      "\n",
      "10 -> 23.55%, used 50010 call(s)\n",
      "\n"
     ]
    }
   ],
   "source": [
    "sizes = [1, 2, 5, 10]\n",
    "k = 1000\n",
    "\n",
    "POPULATION_SIZE = 10\n",
    "OFFSPRING_SIZE = 50\n",
    "N = 10\n",
    "PM = 0.1\n",
    "TOURNAMENT_SIZE = 2\n",
    "\n",
    "for problem_size in sizes:\n",
    "    fitness = lab9_lib.make_problem(problem_size)\n",
    "\n",
    "    population = Ga(POPULATION_SIZE, fitness, N)\n",
    "    for _ in range(1000):\n",
    "        #solve the problem\n",
    "        population.generate_offspring(OFFSPRING_SIZE, PM, TOURNAMENT_SIZE)\n",
    "        population.survival_selection(POPULATION_SIZE)\n",
    "\n",
    "    print(f\"{problem_size} -> {population.population[0].fitness:.2%}, used {fitness.calls} call(s)\\n\")"
   ]
  },
  {
   "cell_type": "code",
   "execution_count": 4,
   "metadata": {},
   "outputs": [
    {
     "data": {
      "text/plain": [
       "array([1, 2, 4, 5, 6])"
      ]
     },
     "execution_count": 4,
     "metadata": {},
     "output_type": "execute_result"
    }
   ],
   "source": [
    "i = Individual(numpy.array([1,2,3,4,5,6]), fitness)\n",
    "\n",
    "numpy.concatenate((i.genome[:2], i.genome[3:]))"
   ]
  },
  {
   "cell_type": "code",
   "execution_count": 38,
   "metadata": {},
   "outputs": [
    {
     "data": {
      "text/plain": [
       "0.11600455833"
      ]
     },
     "execution_count": 38,
     "metadata": {},
     "output_type": "execute_result"
    }
   ],
   "source": [
    "POPULATION_SIZE = 10\n",
    "OFFSPRING_SIZE = 50\n",
    "N = 10\n",
    "PM = 0.1\n",
    "TOURNAMENT_SIZE = 2\n",
    "\n",
    "population = Ga(POPULATION_SIZE, fitness, N)\n",
    "population.generate_offspring(OFFSPRING_SIZE, PM, TOURNAMENT_SIZE)\n",
    "population.survival_selection(POPULATION_SIZE)\n",
    "population.population[0].fitness"
   ]
  },
  {
   "cell_type": "code",
   "execution_count": 39,
   "metadata": {},
   "outputs": [
    {
     "data": {
      "text/plain": [
       "1171"
      ]
     },
     "execution_count": 39,
     "metadata": {},
     "output_type": "execute_result"
    }
   ],
   "source": [
    "fitness.calls"
   ]
  }
 ],
 "metadata": {
  "kernelspec": {
   "display_name": "ci-fLJ3OwGs-py3.12",
   "language": "python",
   "name": "python3"
  },
  "language_info": {
   "codemirror_mode": {
    "name": "ipython",
    "version": 3
   },
   "file_extension": ".py",
   "mimetype": "text/x-python",
   "name": "python",
   "nbconvert_exporter": "python",
   "pygments_lexer": "ipython3",
   "version": "3.10.12"
  }
 },
 "nbformat": 4,
 "nbformat_minor": 2
}
