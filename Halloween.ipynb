{
 "cells": [
  {
   "cell_type": "markdown",
   "id": "185f9931-b384-4fdc-a5b2-eea785428bb8",
   "metadata": {},
   "source": [
    "Copyright **`(c)`** 2023 Giovanni Squillero `<giovanni.squillero@polito.it>`  \n",
    "[`https://github.com/squillero/computational-intelligence`](https://github.com/squillero/computational-intelligence)  \n",
    "Free for personal or classroom use; see [`LICENSE.md`](https://github.com/squillero/computational-intelligence/blob/master/LICENSE.md) for details.  "
   ]
  },
  {
   "cell_type": "code",
   "execution_count": 1,
   "id": "3ffe7245-e849-41d0-9698-5f0e0b83fee9",
   "metadata": {},
   "outputs": [],
   "source": [
    "from itertools import product\n",
    "from random import random, randint, shuffle, seed\n",
    "import numpy as np\n",
    "from scipy import sparse\n",
    "from copy import copy"
   ]
  },
  {
   "cell_type": "code",
   "execution_count": 2,
   "id": "6f03bd67-78a0-4d72-95b7-77a918727b91",
   "metadata": {},
   "outputs": [],
   "source": [
    "def make_set_covering_problem(num_points, num_sets, density):\n",
    "    \"\"\"Returns a sparse array where rows are sets and columns are the covered items\"\"\"\n",
    "    seed(num_points*2654435761+num_sets+density)\n",
    "    sets = sparse.lil_array((num_sets, num_points), dtype=bool)\n",
    "    for s, p in product(range(num_sets), range(num_points)):\n",
    "        if random() < density:\n",
    "            sets[s, p] = True\n",
    "    for p in range(num_points):\n",
    "        sets[randint(0, num_sets-1), p] = True\n",
    "    return sets"
   ]
  },
  {
   "cell_type": "markdown",
   "id": "82b0be37-21d9-492d-9a1d-cf0cdf0ddd76",
   "metadata": {},
   "source": [
    "# Halloween Challenge\n",
    "\n",
    "Find the best solution with the fewest calls to the fitness functions for:\n",
    "\n",
    "* `num_points = [100, 1_000, 5_000]`\n",
    "* `num_sets = num_points`\n",
    "* `density = [.3, .7]` "
   ]
  },
  {
   "cell_type": "code",
   "execution_count": 3,
   "id": "221ffdba-5d3d-48cc-bd08-45ccc9366ea6",
   "metadata": {},
   "outputs": [
    {
     "name": "stdout",
     "output_type": "stream",
     "text": [
      "Element at row=42 and column=42: False\n"
     ]
    }
   ],
   "source": [
    "x = make_set_covering_problem(1000, 1000, .3)\n",
    "print(\"Element at row=42 and column=42:\", x[42, 42])"
   ]
  },
  {
   "cell_type": "code",
   "execution_count": 4,
   "id": "6492337b-8429-472d-9c3e-c79c5b46da54",
   "metadata": {},
   "outputs": [
    {
     "name": "stdout",
     "output_type": "stream",
     "text": [
      "problem with 3066 non zero values: 100 0.3\n",
      "problem with 7019 non zero values: 100 0.7\n",
      "problem with 300776 non zero values: 1000 0.3\n",
      "problem with 701016 non zero values: 1000 0.7\n",
      "problem with 7500703 non zero values: 5000 0.3\n",
      "problem with 17508823 non zero values: 5000 0.7\n"
     ]
    }
   ],
   "source": [
    "#generate the problems so that they are stored in memory\n",
    "points = [100, 1_000, 5_000]\n",
    "densities = [.3, .7]\n",
    "\n",
    "problems = []\n",
    "for num_points in points:\n",
    "    for density in densities:\n",
    "        num_sets = num_points\n",
    "        sets = make_set_covering_problem(num_points, num_sets, density)\n",
    "        print('problem with', sets.nnz, 'non zero values:', num_points, density)\n",
    "        problems.append(sets)"
   ]
  },
  {
   "cell_type": "code",
   "execution_count": 5,
   "id": "4aec91af",
   "metadata": {},
   "outputs": [
    {
     "data": {
      "text/plain": [
       "78"
      ]
     },
     "execution_count": 5,
     "metadata": {},
     "output_type": "execute_result"
    }
   ],
   "source": [
    "solution = [1,2,3,4]  #store indices of taken sets to form solution, initialized randomly\n",
    "a = problems[0].getrow(0)\n",
    "\n",
    "problems[0][solution, :].sum(axis = 0, dtype = bool).sum()\n"
   ]
  },
  {
   "attachments": {},
   "cell_type": "markdown",
   "id": "a7cc4a5a",
   "metadata": {},
   "source": [
    "# Solve one problem at a time, try to solve them\n",
    "we use slicing cos its fast (from scipy docs)"
   ]
  },
  {
   "cell_type": "code",
   "execution_count": 8,
   "id": "735a2a7b",
   "metadata": {},
   "outputs": [],
   "source": [
    "def fitness(sets, solution):\n",
    "    return ((sets[solution, :].sum(axis = 0, dtype = bool).sum() - sets.shape[0]), sets.shape[0] - len(solution)) \n",
    "\n",
    "P = 0.5\n",
    "def tweak1(sets, solution):                                                      \n",
    "    mutation = copy(solution)\n",
    "    if len(mutation) == 0 or random() <= P:\n",
    "        mutation.append(randint(0, sets.shape[0]-1))\n",
    "    else:\n",
    "        mutation[randint(0, len(mutation) - 1)] = randint(0, sets.shape[0]-1)    \n",
    "    return mutation\n",
    "\n",
    "def tweak2(sets, solution):                                                      #improve: needs to be a set\n",
    "    mutation = copy(solution)\n",
    "    if len(mutation) == 0 or random() <= P:\n",
    "        mutation.append(randint(0, sets.shape[0]-1))\n",
    "    else:\n",
    "        mutation.pop(randint(0, len(mutation) - 1))    \n",
    "    return mutation\n",
    "\n",
    "tweak = tweak2\n"
   ]
  },
  {
   "cell_type": "code",
   "execution_count": 9,
   "id": "d6d812bc",
   "metadata": {},
   "outputs": [
    {
     "name": "stdout",
     "output_type": "stream",
     "text": [
      "(-100, 100) -> (0, 92) \n",
      " [12, 94, 20, 81, 36, 95, 2, 89]\n",
      "called fitness function 213 times\n",
      "\n",
      "(-100, 100) -> (0, 96) \n",
      " [29, 76, 60, 22]\n",
      "called fitness function 159 times\n",
      "\n",
      "(-1000, 1000) -> (0, 985) \n",
      " [852, 568, 506, 913, 334, 295, 618, 511, 42, 230, 760, 977, 777, 421, 20]\n",
      "called fitness function 273 times\n",
      "\n",
      "(-1000, 1000) -> (0, 995) \n",
      " [110, 578, 758, 67, 627]\n",
      "called fitness function 160 times\n",
      "\n",
      "(-5000, 5000) -> (0, 4981) \n",
      " [1926, 3267, 3534, 3416, 3552, 330, 2358, 697, 3420, 618, 2880, 2907, 4295, 1442, 1959, 393, 1683, 1843, 4991]\n",
      "called fitness function 270 times\n",
      "\n",
      "(-5000, 5000) -> (0, 4994) \n",
      " [2551, 1791, 3067, 4506, 3086, 3750]\n",
      "called fitness function 173 times\n",
      "\n"
     ]
    }
   ],
   "source": [
    "MESA_THRESHOLD = 150\n",
    "\n",
    "for sets in problems:\n",
    "    solution = []\n",
    "    fitness_prev = fitness(sets, solution)\n",
    "    since_last_mutation = 0\n",
    "    it = 0\n",
    "    print(fitness_prev, '->', end=' ')\n",
    "\n",
    "    while(since_last_mutation < MESA_THRESHOLD):\n",
    "        it += 1\n",
    "        mutation = tweak(sets, solution)\n",
    "        fitness_new = fitness(sets, mutation)\n",
    "        if fitness_new >= fitness_prev:\n",
    "            fitness_prev = fitness_new\n",
    "            solution = mutation\n",
    "            since_last_mutation = 0\n",
    "        else:\n",
    "            since_last_mutation += 1    \n",
    "    print(fitness_prev, '\\n', solution)\n",
    "    print('called fitness function', it, 'times', end = '\\n\\n')"
   ]
  },
  {
   "attachments": {},
   "cell_type": "markdown",
   "id": "78998d45",
   "metadata": {},
   "source": [
    "# Try a more 'greedy' approach"
   ]
  },
  {
   "cell_type": "code",
   "execution_count": 10,
   "id": "dcdcd8f7",
   "metadata": {},
   "outputs": [
    {
     "name": "stdout",
     "output_type": "stream",
     "text": [
      "(-100, 100) -> (0, 92) \n",
      " [83, 24, 29, 89, 59, 87, 68, 72]\n",
      "called fitness function 199 times\n",
      "\n",
      "(-100, 100) -> (0, 94) \n",
      " [73, 61, 48, 86, 63, 40]\n",
      "called fitness function 209 times\n",
      "\n",
      "(-1000, 1000) -> (0, 982) \n",
      " [872, 787, 263, 542, 195, 87, 678, 881, 225, 33, 734, 393, 279, 587, 772, 634, 715, 351]\n",
      "called fitness function 242 times\n",
      "\n",
      "(-1000, 1000) -> (0, 993) \n",
      " [226, 963, 99, 746, 910, 381, 562]\n",
      "called fitness function 251 times\n",
      "\n",
      "(-5000, 5000) -> (0, 4976) \n",
      " [3482, 325, 4936, 3447, 2338, 509, 2473, 3910, 4022, 3803, 1420, 2225, 3036, 3299, 302, 4355, 3460, 608, 105, 795, 3397, 4169, 1156, 1154]\n",
      "called fitness function 298 times\n",
      "\n",
      "(-5000, 5000) -> (0, 4992) \n",
      " [2140, 1439, 2904, 3644, 4241, 4151, 2285, 518]\n",
      "called fitness function 317 times\n",
      "\n"
     ]
    }
   ],
   "source": [
    "for sets in problems:\n",
    "    solution = []\n",
    "    fitness_prev = fitness(sets, solution)\n",
    "    print(fitness_prev, '->', end=' ')\n",
    "\n",
    "    while(fitness_prev[0] != 0):\n",
    "        it += 1\n",
    "        mutation = tweak(sets, solution)\n",
    "        fitness_new = fitness(sets, mutation)\n",
    "        if fitness_new >= fitness_prev:\n",
    "            fitness_prev = fitness_new\n",
    "            solution = mutation\n",
    "               \n",
    "    print(fitness_prev, '\\n', solution)\n",
    "    print('called fitness function', it, 'times', end = '\\n\\n')"
   ]
  },
  {
   "attachments": {},
   "cell_type": "markdown",
   "id": "efcc0ed7",
   "metadata": {},
   "source": [
    "# 1 + lambda ES\n",
    "takes 3 different paths, one additive, one subtractive, one that swaps "
   ]
  },
  {
   "cell_type": "code",
   "execution_count": 15,
   "id": "8ad2bc3c",
   "metadata": {},
   "outputs": [
    {
     "name": "stdout",
     "output_type": "stream",
     "text": [
      "(-100, 100) -> (0, 90) \n",
      " [95, 32, 81, 12, 84, 30, 2, 74, 83, 5]\n",
      "called fitness function 36 times\n",
      "\n",
      "(-100, 100) -> (0, 96) \n",
      " [32, 2, 87, 83]\n",
      "called fitness function 21 times\n",
      "\n",
      "(-1000, 1000) -> (0, 984) \n",
      " [327, 533, 379, 999, 647, 675, 494, 361, 346, 612, 886, 390, 113, 407, 4, 679]\n",
      "called fitness function 57 times\n",
      "\n",
      "(-1000, 1000) -> (0, 995) \n",
      " [305, 744, 387, 124, 224]\n",
      "called fitness function 18 times\n",
      "\n",
      "(-5000, 5000) -> (0, 4977) \n",
      " [805, 26, 2100, 405, 1171, 3579, 3259, 3716, 2744, 1265, 3634, 2306, 849, 1659, 2146, 1681, 844, 418, 2334, 2745, 75, 543, 783]\n",
      "called fitness function 78 times\n",
      "\n",
      "(-5000, 5000) -> (0, 4992) \n",
      " [4513, 2047, 4982, 4028, 3717, 4569, 4212, 302]\n",
      "called fitness function 24 times\n",
      "\n"
     ]
    }
   ],
   "source": [
    "# 1 + lambda with different strategies\n",
    "# already returns best solution and its fitness\n",
    "def tweak3(sets, solution): \n",
    "    mutation1 = copy(solution)\n",
    "    mutation1.append(randint(0, sets.shape[0]-1))\n",
    "    f1 = fitness(sets, mutation1)\n",
    "    if len(mutation1) == 1:\n",
    "        return mutation1, f1\n",
    "    \n",
    "    mutation2 = copy(solution)    \n",
    "    mutation2[randint(0, len(mutation2) - 1)] = randint(0, sets.shape[0]-1) \n",
    "    f2 = fitness(sets, mutation2)\n",
    "\n",
    "    mutation3 = copy(solution)\n",
    "    mutation3.pop(randint(0, len(mutation3) - 1)) \n",
    "    f3 = fitness(sets, mutation3)\n",
    "\n",
    "    if(f1 >= f2 and f1 >= f3):\n",
    "        return mutation1, f1\n",
    "    if(f2 >= f1 and f2 >= f3):\n",
    "        return mutation2, f2  \n",
    "    return mutation3, f3\n",
    "\n",
    "tweak = tweak3\n",
    "\n",
    "for sets in problems:\n",
    "    solution = []\n",
    "    fitness_prev = fitness(sets, solution)\n",
    "    it = 0\n",
    "    print(fitness_prev, '->', end=' ')\n",
    "\n",
    "    while(fitness_prev[0] != 0):\n",
    "        it += 1\n",
    "        mutation, fitness_new = tweak(sets, solution)\n",
    "        if fitness_new >= fitness_prev:\n",
    "            fitness_prev = fitness_new\n",
    "            solution = mutation  \n",
    "    print(fitness_prev, '\\n', solution)\n",
    "    print('called fitness function', it*3, 'times', end = '\\n\\n')"
   ]
  }
 ],
 "metadata": {
  "kernelspec": {
   "display_name": "Python 3 (ipykernel)",
   "language": "python",
   "name": "python3"
  },
  "language_info": {
   "codemirror_mode": {
    "name": "ipython",
    "version": 3
   },
   "file_extension": ".py",
   "mimetype": "text/x-python",
   "name": "python",
   "nbconvert_exporter": "python",
   "pygments_lexer": "ipython3",
   "version": "3.10.12"
  }
 },
 "nbformat": 4,
 "nbformat_minor": 5
}
