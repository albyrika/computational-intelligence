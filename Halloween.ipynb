{
 "cells": [
  {
   "cell_type": "markdown",
   "id": "185f9931-b384-4fdc-a5b2-eea785428bb8",
   "metadata": {},
   "source": [
    "Copyright **`(c)`** 2023 Giovanni Squillero `<giovanni.squillero@polito.it>`  \n",
    "[`https://github.com/squillero/computational-intelligence`](https://github.com/squillero/computational-intelligence)  \n",
    "Free for personal or classroom use; see [`LICENSE.md`](https://github.com/squillero/computational-intelligence/blob/master/LICENSE.md) for details.  "
   ]
  },
  {
   "cell_type": "code",
   "execution_count": 1,
   "id": "3ffe7245-e849-41d0-9698-5f0e0b83fee9",
   "metadata": {},
   "outputs": [],
   "source": [
    "from itertools import product\n",
    "from random import random, randint, shuffle, seed\n",
    "import numpy as np\n",
    "from scipy import sparse\n",
    "from copy import copy"
   ]
  },
  {
   "cell_type": "code",
   "execution_count": 2,
   "id": "6f03bd67-78a0-4d72-95b7-77a918727b91",
   "metadata": {},
   "outputs": [],
   "source": [
    "def make_set_covering_problem(num_points, num_sets, density):\n",
    "    \"\"\"Returns a sparse array where rows are sets and columns are the covered items\"\"\"\n",
    "    seed(num_points*2654435761+num_sets+density)\n",
    "    sets = sparse.lil_array((num_sets, num_points), dtype=bool)\n",
    "    for s, p in product(range(num_sets), range(num_points)):\n",
    "        if random() < density:\n",
    "            sets[s, p] = True\n",
    "    for p in range(num_points):\n",
    "        sets[randint(0, num_sets-1), p] = True\n",
    "    return sets"
   ]
  },
  {
   "cell_type": "markdown",
   "id": "82b0be37-21d9-492d-9a1d-cf0cdf0ddd76",
   "metadata": {},
   "source": [
    "# Halloween Challenge\n",
    "\n",
    "Find the best solution with the fewest calls to the fitness functions for:\n",
    "\n",
    "* `num_points = [100, 1_000, 5_000]`\n",
    "* `num_sets = num_points`\n",
    "* `density = [.3, .7]` "
   ]
  },
  {
   "cell_type": "code",
   "execution_count": 3,
   "id": "221ffdba-5d3d-48cc-bd08-45ccc9366ea6",
   "metadata": {},
   "outputs": [
    {
     "name": "stdout",
     "output_type": "stream",
     "text": [
      "Element at row=42 and column=42: False\n"
     ]
    }
   ],
   "source": [
    "x = make_set_covering_problem(1000, 1000, .3)\n",
    "print(\"Element at row=42 and column=42:\", x[42, 42])"
   ]
  },
  {
   "cell_type": "code",
   "execution_count": 4,
   "id": "6492337b-8429-472d-9c3e-c79c5b46da54",
   "metadata": {},
   "outputs": [
    {
     "name": "stdout",
     "output_type": "stream",
     "text": [
      "problem with 3066 non zero values: 100 0.3\n",
      "problem with 7019 non zero values: 100 0.7\n",
      "problem with 300776 non zero values: 1000 0.3\n",
      "problem with 701016 non zero values: 1000 0.7\n",
      "problem with 7500703 non zero values: 5000 0.3\n",
      "problem with 17508823 non zero values: 5000 0.7\n"
     ]
    }
   ],
   "source": [
    "#generate the problems so that they are stored in memory\n",
    "points = [100, 1_000, 5_000]\n",
    "densities = [.3, .7]\n",
    "\n",
    "problems = []\n",
    "for num_points in points:\n",
    "    for density in densities:\n",
    "        num_sets = num_points\n",
    "        sets = make_set_covering_problem(num_points, num_sets, density)\n",
    "        print('problem with', sets.nnz, 'non zero values:', num_points, density)\n",
    "        problems.append(sets)"
   ]
  },
  {
   "cell_type": "code",
   "execution_count": 28,
   "id": "4aec91af",
   "metadata": {},
   "outputs": [
    {
     "data": {
      "text/plain": [
       "78"
      ]
     },
     "execution_count": 28,
     "metadata": {},
     "output_type": "execute_result"
    }
   ],
   "source": [
    "solution = [1,2,3,4]  #store indices of taken sets to form solution, initialized randomly\n",
    "a = problems[0].getrow(0)\n",
    "\n",
    "problems[0][solution, :].sum(axis = 0, dtype = bool).sum()\n"
   ]
  },
  {
   "attachments": {},
   "cell_type": "markdown",
   "id": "a7cc4a5a",
   "metadata": {},
   "source": [
    "solve one problem at a time, try to solve them\n",
    "we use slicing cos its fast (from scipy docs)"
   ]
  },
  {
   "cell_type": "code",
   "execution_count": 22,
   "id": "735a2a7b",
   "metadata": {},
   "outputs": [],
   "source": [
    "def fitness(sets, solution):\n",
    "    return ((sets[solution, :].sum(axis = 0, dtype = bool).sum() - sets.shape[0]), sets.shape[0] - len(solution)) \n",
    "\n",
    "P = 0.5\n",
    "def tweak1(sets, solution):                                                      \n",
    "    mutation = copy(solution)\n",
    "    if len(mutation) == 0 or random() <= P:\n",
    "        mutation.append(randint(0, sets.shape[0]-1))\n",
    "    else:\n",
    "        mutation[randint(0, len(mutation) - 1)] = randint(0, sets.shape[0]-1)    \n",
    "    return mutation\n",
    "\n",
    "def tweak2(sets, solution):                                                      #improve: needs to be a set\n",
    "    mutation = copy(solution)\n",
    "    if len(mutation) == 0 or random() <= P:\n",
    "        mutation.append(randint(0, sets.shape[0]-1))\n",
    "    else:\n",
    "        mutation.pop(randint(0, len(mutation) - 1))    \n",
    "    return mutation\n",
    "\n",
    "tweak = tweak2\n"
   ]
  },
  {
   "cell_type": "code",
   "execution_count": 32,
   "id": "d6d812bc",
   "metadata": {},
   "outputs": [
    {
     "name": "stdout",
     "output_type": "stream",
     "text": [
      "(-100, 100) -> (0, 92) \n",
      " [39, 34, 12, 94, 65, 87, 40, 77]\n",
      "called fitness function 222 times\n",
      "\n",
      "(-100, 100) -> (0, 96) \n",
      " [42, 39, 5, 61]\n",
      "called fitness function 174 times\n",
      "\n",
      "(-1000, 1000) -> (0, 986) \n",
      " [100, 265, 213, 660, 742, 845, 755, 643, 544, 520, 770, 378, 613, 137]\n",
      "called fitness function 240 times\n",
      "\n",
      "(-1000, 1000) -> (0, 995) \n",
      " [808, 621, 196, 4, 88]\n",
      "called fitness function 186 times\n",
      "\n",
      "(-5000, 5000) -> (0, 4982) \n",
      " [1510, 1234, 3491, 4841, 2903, 796, 4695, 3592, 2320, 497, 1152, 3760, 4569, 2572, 4207, 280, 666, 2969]\n",
      "called fitness function 210 times\n",
      "\n",
      "(-5000, 5000) -> (0, 4993) \n",
      " [1336, 1120, 1368, 3219, 2183, 4002, 234]\n",
      "called fitness function 166 times\n",
      "\n"
     ]
    }
   ],
   "source": [
    "MESA_THRESHOLD = 150\n",
    "\n",
    "for sets in problems:\n",
    "    solution = []\n",
    "    fitness_prev = fitness(sets, solution)\n",
    "    since_last_mutation = 0\n",
    "    it = 0\n",
    "    print(fitness_prev, '->', end=' ')\n",
    "\n",
    "    while(since_last_mutation < MESA_THRESHOLD):\n",
    "        it += 1\n",
    "        mutation = tweak(sets, solution)\n",
    "        fitness_new = fitness(sets, mutation)\n",
    "        if fitness_new >= fitness_prev:\n",
    "            fitness_prev = fitness_new\n",
    "            solution = mutation\n",
    "            since_last_mutation = 0\n",
    "        else:\n",
    "            since_last_mutation += 1    \n",
    "    print(fitness_prev, '\\n', solution)\n",
    "    print('called fitness function', it, 'times', end = '\\n\\n')"
   ]
  }
 ],
 "metadata": {
  "kernelspec": {
   "display_name": "Python 3 (ipykernel)",
   "language": "python",
   "name": "python3"
  },
  "language_info": {
   "codemirror_mode": {
    "name": "ipython",
    "version": 3
   },
   "file_extension": ".py",
   "mimetype": "text/x-python",
   "name": "python",
   "nbconvert_exporter": "python",
   "pygments_lexer": "ipython3",
   "version": "3.10.12"
  }
 },
 "nbformat": 4,
 "nbformat_minor": 5
}
