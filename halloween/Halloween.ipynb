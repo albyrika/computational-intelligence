{
 "cells": [
  {
   "cell_type": "markdown",
   "id": "185f9931-b384-4fdc-a5b2-eea785428bb8",
   "metadata": {},
   "source": [
    "Copyright **`(c)`** 2023 Giovanni Squillero `<giovanni.squillero@polito.it>`  \n",
    "[`https://github.com/squillero/computational-intelligence`](https://github.com/squillero/computational-intelligence)  \n",
    "Free for personal or classroom use; see [`LICENSE.md`](https://github.com/squillero/computational-intelligence/blob/master/LICENSE.md) for details.  "
   ]
  },
  {
   "cell_type": "code",
   "execution_count": 1,
   "id": "3ffe7245-e849-41d0-9698-5f0e0b83fee9",
   "metadata": {},
   "outputs": [],
   "source": [
    "from itertools import product\n",
    "from random import random, randint, shuffle, seed\n",
    "import numpy as np\n",
    "from scipy import sparse\n",
    "from copy import copy\n",
    "from queue import PriorityQueue\n",
    "from math import ceil"
   ]
  },
  {
   "cell_type": "code",
   "execution_count": 2,
   "id": "6f03bd67-78a0-4d72-95b7-77a918727b91",
   "metadata": {},
   "outputs": [],
   "source": [
    "def make_set_covering_problem(num_points, num_sets, density):\n",
    "    \"\"\"Returns a sparse array where rows are sets and columns are the covered items\"\"\"\n",
    "    seed(num_points*2654435761+num_sets+density)\n",
    "    sets = sparse.lil_array((num_sets, num_points), dtype=bool)\n",
    "    for s, p in product(range(num_sets), range(num_points)):\n",
    "        if random() < density:\n",
    "            sets[s, p] = True\n",
    "    for p in range(num_points):\n",
    "        sets[randint(0, num_sets-1), p] = True\n",
    "    return sets"
   ]
  },
  {
   "cell_type": "markdown",
   "id": "82b0be37-21d9-492d-9a1d-cf0cdf0ddd76",
   "metadata": {},
   "source": [
    "# Halloween Challenge\n",
    "\n",
    "Find the best solution with the fewest calls to the fitness functions for:\n",
    "\n",
    "* `num_points = [100, 1_000, 5_000]`\n",
    "* `num_sets = num_points`\n",
    "* `density = [.3, .7]` "
   ]
  },
  {
   "cell_type": "code",
   "execution_count": 3,
   "id": "221ffdba-5d3d-48cc-bd08-45ccc9366ea6",
   "metadata": {},
   "outputs": [
    {
     "name": "stdout",
     "output_type": "stream",
     "text": [
      "Element at row=42 and column=42: False\n"
     ]
    }
   ],
   "source": [
    "x = make_set_covering_problem(1000, 1000, .3)\n",
    "print(\"Element at row=42 and column=42:\", x[42, 42])"
   ]
  },
  {
   "cell_type": "code",
   "execution_count": 4,
   "id": "6492337b-8429-472d-9c3e-c79c5b46da54",
   "metadata": {},
   "outputs": [
    {
     "name": "stdout",
     "output_type": "stream",
     "text": [
      "problem with 3066 non zero values: 100 0.3\n",
      "problem with 7019 non zero values: 100 0.7\n",
      "problem with 300776 non zero values: 1000 0.3\n",
      "problem with 701016 non zero values: 1000 0.7\n",
      "problem with 7500703 non zero values: 5000 0.3\n",
      "problem with 17508823 non zero values: 5000 0.7\n"
     ]
    }
   ],
   "source": [
    "#generate the problems so that they are stored in memory\n",
    "points = [100, 1_000, 5_000]\n",
    "densities = [.3, .7]\n",
    "\n",
    "problems = []\n",
    "for num_points in points:\n",
    "    for density in densities:\n",
    "        num_sets = num_points\n",
    "        sets = make_set_covering_problem(num_points, num_sets, density)\n",
    "        print('problem with', sets.nnz, 'non zero values:', num_points, density)\n",
    "        problems.append(sets)"
   ]
  },
  {
   "cell_type": "code",
   "execution_count": 5,
   "id": "4aec91af",
   "metadata": {},
   "outputs": [
    {
     "data": {
      "text/plain": [
       "19"
      ]
     },
     "execution_count": 5,
     "metadata": {},
     "output_type": "execute_result"
    }
   ],
   "source": [
    "solution = [1,2,3,4]  #store indices of taken sets to form solution, initialized randomly\n",
    "a = problems[0].getrow(0)\n",
    "\n",
    "min(problems[0][:, :].sum(axis = 0)) #dtype = bool\n"
   ]
  },
  {
   "attachments": {},
   "cell_type": "markdown",
   "id": "a7cc4a5a",
   "metadata": {},
   "source": [
    "# Solve one problem at a time, try to solve them\n",
    " we use slicing cos its fast (from scipy docs)"
   ]
  },
  {
   "cell_type": "code",
   "execution_count": 6,
   "id": "735a2a7b",
   "metadata": {},
   "outputs": [],
   "source": [
    "def fitness(sets, solution):\n",
    "    return ((sets[solution, :].sum(axis = 0, dtype = bool).sum() - sets.shape[0]), sets.shape[0] - len(solution)) \n",
    "\n",
    "P = 0.5\n",
    "def tweak1(sets, solution):                                                      \n",
    "    mutation = copy(solution)\n",
    "    if len(mutation) == 0 or random() <= P:\n",
    "        mutation.append(randint(0, sets.shape[0]-1))\n",
    "    else:\n",
    "        mutation[randint(0, len(mutation) - 1)] = randint(0, sets.shape[0]-1)    \n",
    "    return mutation\n",
    "\n",
    "def tweak2(sets, solution):                                                      #improve: needs to be a set\n",
    "    mutation = copy(solution)\n",
    "    if len(mutation) == 0 or random() <= P:\n",
    "        mutation.append(randint(0, sets.shape[0]-1))\n",
    "    else:\n",
    "        mutation.pop(randint(0, len(mutation) - 1))    \n",
    "    return mutation\n",
    "\n",
    "tweak = tweak2\n"
   ]
  },
  {
   "cell_type": "code",
   "execution_count": 7,
   "id": "d6d812bc",
   "metadata": {},
   "outputs": [
    {
     "name": "stdout",
     "output_type": "stream",
     "text": [
      "(-100, 100) -> (0, 92) \n",
      " [63, 19, 20, 17, 42, 84, 30, 6]\n",
      "called fitness function 204 times\n",
      "\n",
      "(-100, 100) -> (0, 95) \n",
      " [74, 45, 87, 68, 78]\n",
      "called fitness function 170 times\n",
      "\n",
      "(-1000, 1000) -> (0, 986) \n",
      " [458, 17, 374, 43, 240, 507, 215, 552, 202, 670, 881, 141, 161, 163]\n",
      "called fitness function 233 times\n",
      "\n",
      "(-1000, 1000) -> (0, 994) \n",
      " [655, 193, 905, 682, 15, 352]\n",
      "called fitness function 164 times\n",
      "\n",
      "(-5000, 5000) -> (0, 4982) \n",
      " [3010, 937, 2296, 2929, 2995, 2584, 2468, 1237, 3755, 2672, 1864, 410, 358, 4153, 3300, 4226, 4736, 580]\n",
      "called fitness function 247 times\n",
      "\n",
      "(-5000, 5000) -> (0, 4993) \n",
      " [3726, 341, 2114, 3087, 3520, 495, 1482]\n",
      "called fitness function 169 times\n",
      "\n"
     ]
    }
   ],
   "source": [
    "MESA_THRESHOLD = 150\n",
    "\n",
    "for sets in problems:\n",
    "    solution = []\n",
    "    fitness_prev = fitness(sets, solution)\n",
    "    since_last_mutation = 0\n",
    "    it = 0\n",
    "    print(fitness_prev, '->', end=' ')\n",
    "\n",
    "    while(since_last_mutation < MESA_THRESHOLD):\n",
    "        it += 1\n",
    "        mutation = tweak(sets, solution)\n",
    "        fitness_new = fitness(sets, mutation)\n",
    "        if fitness_new >= fitness_prev:\n",
    "            fitness_prev = fitness_new\n",
    "            solution = mutation\n",
    "            since_last_mutation = 0\n",
    "        else:\n",
    "            since_last_mutation += 1    \n",
    "    print(fitness_prev, '\\n', solution)\n",
    "    print('called fitness function', it, 'times', end = '\\n\\n')"
   ]
  },
  {
   "attachments": {},
   "cell_type": "markdown",
   "id": "78998d45",
   "metadata": {},
   "source": [
    "# Try a more 'greedy' approach"
   ]
  },
  {
   "cell_type": "code",
   "execution_count": 8,
   "id": "dcdcd8f7",
   "metadata": {},
   "outputs": [
    {
     "name": "stdout",
     "output_type": "stream",
     "text": [
      "(-100, 100) -> (0, 91) \n",
      " [86, 11, 73, 58, 71, 39, 9, 41, 17]\n",
      "called fitness function 208 times\n",
      "\n",
      "(-100, 100) -> (0, 95) \n",
      " [72, 53, 0, 98, 40]\n",
      "called fitness function 219 times\n",
      "\n",
      "(-1000, 1000) -> (0, 984) \n",
      " [560, 441, 806, 855, 103, 956, 814, 218, 707, 18, 240, 766, 716, 362, 565, 831]\n",
      "called fitness function 296 times\n",
      "\n",
      "(-1000, 1000) -> (0, 993) \n",
      " [148, 635, 809, 612, 244, 63, 494]\n",
      "called fitness function 312 times\n",
      "\n",
      "(-5000, 5000) -> (0, 4979) \n",
      " [4954, 137, 1825, 1793, 4083, 2064, 2179, 4283, 4573, 3641, 1913, 26, 1989, 2167, 4317, 4977, 2006, 4818, 3535, 1246, 115]\n",
      "called fitness function 354 times\n",
      "\n",
      "(-5000, 5000) -> (0, 4992) \n",
      " [4031, 3174, 2479, 2632, 1372, 2860, 3187, 3406]\n",
      "called fitness function 369 times\n",
      "\n"
     ]
    }
   ],
   "source": [
    "for sets in problems:\n",
    "    solution = []\n",
    "    fitness_prev = fitness(sets, solution)\n",
    "    print(fitness_prev, '->', end=' ')\n",
    "\n",
    "    while(fitness_prev[0] != 0):\n",
    "        it += 1\n",
    "        mutation = tweak(sets, solution)\n",
    "        fitness_new = fitness(sets, mutation)\n",
    "        if fitness_new >= fitness_prev:\n",
    "            fitness_prev = fitness_new\n",
    "            solution = mutation\n",
    "               \n",
    "    print(fitness_prev, '\\n', solution)\n",
    "    print('called fitness function', it, 'times', end = '\\n\\n')"
   ]
  },
  {
   "attachments": {},
   "cell_type": "markdown",
   "id": "efcc0ed7",
   "metadata": {},
   "source": [
    "# 1 + lambda ES\n",
    " takes 3 different paths, one additive, one subtractive, one that swaps "
   ]
  },
  {
   "cell_type": "code",
   "execution_count": 9,
   "id": "8ad2bc3c",
   "metadata": {},
   "outputs": [
    {
     "name": "stdout",
     "output_type": "stream",
     "text": [
      "(-100, 100) -> (0, 90) \n",
      " [15, 97, 10, 25, 18, 91, 92, 80, 57, 68]\n",
      "called fitness function 36 times\n",
      "\n",
      "(-100, 100) -> (0, 95) \n",
      " [93, 82, 64, 91, 71]\n",
      "called fitness function 15 times\n",
      "\n",
      "(-1000, 1000) -> (0, 983) \n",
      " [844, 742, 784, 417, 746, 234, 516, 422, 792, 31, 544, 302, 126, 365, 997, 243, 988]\n",
      "called fitness function 57 times\n",
      "\n",
      "(-1000, 1000) -> (0, 994) \n",
      " [58, 740, 249, 789, 6, 501]\n",
      "called fitness function 21 times\n",
      "\n",
      "(-5000, 5000) -> (0, 4980) \n",
      " [102, 4294, 4536, 178, 4386, 1164, 338, 3284, 313, 2271, 2245, 844, 3789, 1933, 3876, 3989, 4431, 4357, 4597, 4353]\n",
      "called fitness function 63 times\n",
      "\n",
      "(-5000, 5000) -> (0, 4993) \n",
      " [3199, 1338, 4875, 493, 3044, 3553, 1240]\n",
      "called fitness function 21 times\n",
      "\n"
     ]
    }
   ],
   "source": [
    "# 1 + lambda with different strategies\n",
    "# already returns best solution and its fitness\n",
    "def tweak3(sets, solution): \n",
    "    mutation1 = copy(solution)\n",
    "    mutation1.append(randint(0, sets.shape[0]-1))\n",
    "    f1 = fitness(sets, mutation1)\n",
    "    if len(mutation1) == 1:\n",
    "        return mutation1, f1\n",
    "    \n",
    "    mutation2 = copy(solution)    \n",
    "    mutation2[randint(0, len(mutation2) - 1)] = randint(0, sets.shape[0]-1) \n",
    "    f2 = fitness(sets, mutation2)\n",
    "\n",
    "    mutation3 = copy(solution)\n",
    "    mutation3.pop(randint(0, len(mutation3) - 1)) \n",
    "    f3 = fitness(sets, mutation3)\n",
    "\n",
    "    if(f1 >= f2 and f1 >= f3):\n",
    "        return mutation1, f1\n",
    "    if(f2 >= f1 and f2 >= f3):\n",
    "        return mutation2, f2  \n",
    "    return mutation3, f3\n",
    "\n",
    "tweak = tweak3\n",
    "\n",
    "for sets in problems:\n",
    "    solution = []\n",
    "    fitness_prev = fitness(sets, solution)\n",
    "    it = 0\n",
    "    print(fitness_prev, '->', end=' ')\n",
    "\n",
    "    while(fitness_prev[0] != 0):\n",
    "        it += 1\n",
    "        mutation, fitness_new = tweak(sets, solution)\n",
    "        if fitness_new >= fitness_prev:\n",
    "            fitness_prev = fitness_new\n",
    "            solution = mutation  \n",
    "    print(fitness_prev, '\\n', solution)\n",
    "    print('called fitness function', it*3, 'times', end = '\\n\\n')"
   ]
  },
  {
   "attachments": {},
   "cell_type": "markdown",
   "id": "f3bda7fd",
   "metadata": {},
   "source": [
    "## Now try to make a stupid - but fast - algorithm"
   ]
  },
  {
   "cell_type": "code",
   "execution_count": 12,
   "id": "99f3c5d2",
   "metadata": {},
   "outputs": [
    {
     "name": "stdout",
     "output_type": "stream",
     "text": [
      "(-30, 96) -> (0, 80) \n",
      " [80, 92, 22, 94, 36, 58, 0, 56, 90, 91, 7, 43, 44, 96, 82, 42, 64, 29, 37, 61]\n",
      "called fitness function 5 times\n",
      "\n",
      "(-10, 98) -> (0, 94) \n",
      " [13, 81, 2, 22, 96, 47]\n",
      "called fitness function 3 times\n",
      "\n",
      "(-236, 996) -> (0, 964) \n",
      " [229, 516, 991, 157, 542, 89, 695, 427, 12, 97, 791, 403, 720, 244, 81, 824, 310, 357, 470, 36, 346, 25, 509, 199, 663, 124, 687, 820, 640, 935, 61, 814, 462, 376, 860, 583]\n",
      "called fitness function 6 times\n",
      "\n",
      "(-69, 998) -> (0, 994) \n",
      " [278, 516, 955, 395, 846, 10]\n",
      "called fitness function 3 times\n",
      "\n",
      "(-1208, 4996) -> (0, 4964) \n",
      " [4626, 1933, 2012, 3105, 2478, 1329, 4759, 257, 200, 3562, 2363, 955, 1028, 939, 4422, 2583, 3692, 3021, 3133, 4006, 1035, 124, 1610, 1594, 1725, 1921, 4495, 715, 1365, 2466, 3115, 854, 4031, 4825, 3482, 1073]\n",
      "called fitness function 6 times\n",
      "\n",
      "(-441, 4998) -> (0, 4990) \n",
      " [4316, 1007, 1113, 2913, 1553, 1050, 2214, 2830, 4330, 1414]\n",
      "called fitness function 4 times\n",
      "\n"
     ]
    }
   ],
   "source": [
    "\n",
    "def sorted_sets(sets):\n",
    "    tile_rarities = sets.sum(axis = 0)\n",
    "    sets_richness = sets.sum(axis = 1)\n",
    "    #i like if if: lot of tiles, tiles are rare -> small number ( sum of sets that have that tile / number of tiles )\n",
    "    strengths = []\n",
    "    for i in range(sets.shape[0]):\n",
    "        strengths.append( (sets[[i], :] * tile_rarities).sum() / sets_richness[i])\n",
    "    return sorted(list(range(sets.shape[0])), key = lambda i: strengths[i])\n",
    "    \n",
    "\n",
    "for sets in problems:\n",
    "    s_sorted = sorted_sets(sets)\n",
    "\n",
    "    take = ceil(sets.shape[0] / sets[[s_sorted[0]], :].sum())\n",
    "    solution = s_sorted[0 : take]\n",
    "    fitness_prev = fitness(sets, solution)\n",
    "    it = 0\n",
    "    print(fitness_prev, '->', end=' ')\n",
    "\n",
    "    while(fitness_prev[0] != 0):\n",
    "        solution = s_sorted[0 : 2**it + take]\n",
    "        fitness_prev = fitness(sets, solution)\n",
    "        it += 1      \n",
    "    print(fitness_prev, '\\n', solution)\n",
    "    print('called fitness function', it, 'times', end = '\\n\\n')\n",
    "    \n"
   ]
  },
  {
   "cell_type": "code",
   "execution_count": 11,
   "id": "d7c5d9df",
   "metadata": {},
   "outputs": [
    {
     "name": "stdout",
     "output_type": "stream",
     "text": [
      "3555\n"
     ]
    }
   ],
   "source": [
    "b = [4,3,2.4,2.5,1,0]\n",
    "\n",
    "def brt(index):\n",
    "    return b[index]\n",
    "\n",
    "a = list(range(6))\n",
    "a.sort(key = lambda i:-i)\n",
    "print((sets[[0], :]).sum())"
   ]
  },
  {
   "attachments": {},
   "cell_type": "markdown",
   "id": "800ed9a5",
   "metadata": {},
   "source": [
    "## optimizing the number of fitness calls\n",
    " - something like dijkstra + evolutionary strategies\n",
    " - or again, try ordering the sets if it is doable and not sloooow"
   ]
  }
 ],
 "metadata": {
  "kernelspec": {
   "display_name": "Python 3 (ipykernel)",
   "language": "python",
   "name": "python3"
  },
  "language_info": {
   "codemirror_mode": {
    "name": "ipython",
    "version": 3
   },
   "file_extension": ".py",
   "mimetype": "text/x-python",
   "name": "python",
   "nbconvert_exporter": "python",
   "pygments_lexer": "ipython3",
   "version": "3.10.12"
  }
 },
 "nbformat": 4,
 "nbformat_minor": 5
}
