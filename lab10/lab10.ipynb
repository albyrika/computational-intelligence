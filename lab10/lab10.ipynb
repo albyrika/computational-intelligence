{
 "cells": [
  {
   "attachments": {},
   "cell_type": "markdown",
   "metadata": {},
   "source": [
    "## Lab 10\n",
    "\n",
    "Deadline by 25/12/2023\n",
    "Devise a strategy to play tic-tac-toe by means of RL"
   ]
  },
  {
   "cell_type": "code",
   "execution_count": 1,
   "metadata": {},
   "outputs": [],
   "source": [
    "import lab10_lib as ttt\n",
    "import random as rand"
   ]
  },
  {
   "attachments": {},
   "cell_type": "markdown",
   "metadata": {},
   "source": [
    "Example to show how to use the board"
   ]
  },
  {
   "cell_type": "code",
   "execution_count": 5,
   "metadata": {},
   "outputs": [
    {
     "name": "stdout",
     "output_type": "stream",
     "text": [
      "⭕️❌⭕️\n",
      "❌❌⭕️\n",
      "❌⭕️❌\n",
      "\n",
      "0\n"
     ]
    }
   ],
   "source": [
    "board = ttt.Board()\n",
    "board.update((1,1), 1)\n",
    "board.update((0,0), -1)\n",
    "board.update((2,0), 1)\n",
    "board.update((0,1), 1)\n",
    "board.update((1,2), -1)\n",
    "board.update((1,0), 1)\n",
    "board.update((2,2), 1)\n",
    "board.update((2,1), -1)\n",
    "#board.update((0,2), -1)\n",
    "\n",
    "print(board)\n",
    "print(board.winner())"
   ]
  },
  {
   "attachments": {},
   "cell_type": "markdown",
   "metadata": {},
   "source": [
    "Some strategies: random, expert, learning"
   ]
  },
  {
   "cell_type": "code",
   "execution_count": 3,
   "metadata": {},
   "outputs": [],
   "source": [
    "class RandomAgent():\n",
    "    def generate_move(board: ttt.Board) -> ttt.Move:\n",
    "        possible = []\n",
    "        for i in range(3):\n",
    "            for j in range(3):\n",
    "                if board[i][j] == 0:\n",
    "                    possible.append((i,j))\n",
    "        return possible[rand.randint(0, len(possible)-1)]\n",
    "\n",
    "\n",
    "class ExpertAgent():\n",
    "    \"\"\"checks if it possible to block a winning move, else returns random\"\"\"\n",
    "    def generate_move(board: ttt.Board) -> ttt.Move:\n",
    "        #implement\n",
    "        return RandomAgent().generate_move(board)   \n",
    "\n",
    "\n",
    "class LearningAgent():\n",
    "    def __init__(self) -> None:\n",
    "        self.learn = True\n",
    "        self.qtable = {}   \n",
    "\n",
    "    def set_learn(self, learn: bool) -> None:\n",
    "        self.learn = learn\n",
    "\n",
    "    def generate_move(board: ttt.Board) -> ttt.Move:\n",
    "        #implement\n",
    "        return RandomAgent().generate_move(board) \n",
    "    \n",
    "    def feedback(won: int) -> None:\n",
    "        if won == 1:\n",
    "            print('Agent won')\n",
    "        elif won == -1:\n",
    "            print('Agent lost') \n",
    "        else:\n",
    "            print('Draw')       "
   ]
  },
  {
   "cell_type": "code",
   "execution_count": 4,
   "metadata": {},
   "outputs": [
    {
     "data": {
      "text/plain": [
       "1"
      ]
     },
     "execution_count": 4,
     "metadata": {},
     "output_type": "execute_result"
    }
   ],
   "source": [
    "a = ((1,2,3), (0,1,2))\n",
    "a = tuple(elem for tup in a for elem in tup)\n",
    "\n",
    "a.count(0)"
   ]
  }
 ],
 "metadata": {
  "kernelspec": {
   "display_name": "venv",
   "language": "python",
   "name": "python3"
  },
  "language_info": {
   "codemirror_mode": {
    "name": "ipython",
    "version": 3
   },
   "file_extension": ".py",
   "mimetype": "text/x-python",
   "name": "python",
   "nbconvert_exporter": "python",
   "pygments_lexer": "ipython3",
   "version": "3.10.12"
  },
  "orig_nbformat": 4
 },
 "nbformat": 4,
 "nbformat_minor": 2
}
