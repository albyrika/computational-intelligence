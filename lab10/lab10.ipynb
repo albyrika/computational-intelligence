{
 "cells": [
  {
   "attachments": {},
   "cell_type": "markdown",
   "metadata": {},
   "source": [
    "## Lab 10\n",
    "\n",
    "Deadline by 25/12/2023\n",
    "Devise a strategy to play tic-tac-toe by means of RL"
   ]
  },
  {
   "cell_type": "code",
   "execution_count": 88,
   "metadata": {},
   "outputs": [],
   "source": [
    "import lab10_lib as ttt\n",
    "import random as rand\n",
    "from copy import deepcopy\n",
    "from collections import defaultdict\n",
    "import numpy"
   ]
  },
  {
   "attachments": {},
   "cell_type": "markdown",
   "metadata": {},
   "source": [
    "Example to show how to use the board"
   ]
  },
  {
   "cell_type": "code",
   "execution_count": 89,
   "metadata": {},
   "outputs": [
    {
     "name": "stdout",
     "output_type": "stream",
     "text": [
      "⭕️❌  \n",
      "❌❌⭕️\n",
      "❌⭕️❌\n",
      "\n",
      "None\n"
     ]
    }
   ],
   "source": [
    "board = ttt.Board()\n",
    "board.update((1,1), 1)\n",
    "board.update((0,0), -1)\n",
    "board.update((2,0), 1)\n",
    "board.update((0,1), 1)\n",
    "board.update((1,2), -1)\n",
    "board.update((1,0), 1)\n",
    "board.update((2,2), 1)\n",
    "board.update((2,1), -1)\n",
    "#board.update((0,2), -1)\n",
    "\n",
    "print(board)\n",
    "print(board.winner())"
   ]
  },
  {
   "attachments": {},
   "cell_type": "markdown",
   "metadata": {},
   "source": [
    "Some strategies: random, expert, learning"
   ]
  },
  {
   "cell_type": "code",
   "execution_count": 90,
   "metadata": {},
   "outputs": [],
   "source": [
    "def possible_moves(board: ttt.Board) -> list[ttt.Move]:\n",
    "    \"\"\"returns a list of possible moves\"\"\"\n",
    "    possible = []\n",
    "    for i in range(3):\n",
    "        for j in range(3):\n",
    "            if board.state[i][j] == 0:\n",
    "                possible.append((i,j))\n",
    "    return possible    \n",
    "            \n",
    "\n",
    "class RandomAgent():\n",
    "    \"\"\"returns a random move\"\"\"\n",
    "    def generate_move(self, board: ttt.Board) -> ttt.Move:\n",
    "        possible = possible_moves(board)\n",
    "        return possible[rand.randint(0, len(possible)-1)]\n",
    "\n",
    "\n",
    "class ExpertAgent():\n",
    "    \"\"\"checks if it possible to block a winning move, else returns random\"\"\"\n",
    "    def generate_move(self, board: ttt.Board) -> ttt.Move:\n",
    "        possible = possible_moves(board)\n",
    "        for m in possible:\n",
    "            sim_board = ttt.Board(deepcopy(board.state))\n",
    "            sim_board.update(m, 1)\n",
    "            if sim_board.winner() == 1:\n",
    "                return m\n",
    "        return possible[rand.randint(0, len(possible)-1)]\n",
    "    \n",
    "\n",
    "class LearningAgent():\n",
    "    \"\"\"learns how to play by playing a lot of games\"\"\"\n",
    "    def __init__(self) -> None:\n",
    "        self.qtable = defaultdict(float)\n",
    "        self.index = 0 \n",
    "        self.trajectory = [] \n",
    "        self.epsilon = 0.1                      #probability to make a random move\n",
    "        self.lr = 0.5                           #learning rate\n",
    "        self.gamma = 0.8                        #discount rate\n",
    "\n",
    "    def stop_exploring(self) -> None:\n",
    "        self.epsilon = 0.0\n",
    "\n",
    "    def generate_move(self, board: ttt.Board) -> ttt.Move:\n",
    "        \"\"\"generates a move using, if possible the best one\"\"\"\n",
    "        possible = possible_moves(board)\n",
    "        keys = [ (board.state, move) for move in possible ]\n",
    "        if len(keys) == 0 or rand.random() < self.epsilon:\n",
    "            return possible[rand.randint(0, len(possible)-1)]\n",
    "        keys = [ (board.state, move) for move in possible ]\n",
    "        vals = [ self.qtable[k] for k in keys ]\n",
    "        choice = keys[numpy.argmax(vals)]\n",
    "        self.trajectory.append(choice)\n",
    "        return choice[1]\n",
    "    \n",
    "    def feedback(self, won: int) -> None:\n",
    "        \"\"\"updates qtable and resets trajectory\"\"\"\n",
    "        won = [-5, 15, -10][won]      #draw, win, lose\n",
    "        i = 0\n",
    "        self.trajectory.reverse()\n",
    "        for c in self.trajectory:\n",
    "            maxq = max([self.qtable[res] for res in self.trajectory[0:i]]) if i != 0 else won\n",
    "            self.qtable[c] = (1 - self.lr) * self.qtable[c] + self.lr * (won + self.gamma * maxq) \n",
    "            i += 1\n",
    "        self.trajectory = []        "
   ]
  },
  {
   "attachments": {},
   "cell_type": "markdown",
   "metadata": {},
   "source": [
    "Toy example to show how it works"
   ]
  },
  {
   "cell_type": "code",
   "execution_count": 91,
   "metadata": {},
   "outputs": [
    {
     "name": "stdout",
     "output_type": "stream",
     "text": [
      "❌❌⭕️\n",
      "❌  ⭕️\n",
      "  ⭕️⭕️\n",
      "\n",
      "❌❌⭕️\n",
      "⭕️⭕️❌\n",
      "❌❌⭕️\n",
      "\n",
      "❌❌⭕️\n",
      "❌⭕️⭕️\n",
      "⭕️    \n",
      "\n",
      "❌❌⭕️\n",
      "❌⭕️  \n",
      "⭕️⭕️❌\n",
      "\n",
      "won: 0\n",
      "lost: 3\n",
      "draw: 1\n",
      "\n"
     ]
    }
   ],
   "source": [
    "b = ttt.Board()\n",
    "p1 = LearningAgent()\n",
    "p2 = RandomAgent()\n",
    "p3 = ExpertAgent()\n",
    "\n",
    "ttt.play_games(b, p1, [p2, p3], n_games=2, logging=True, toy_games=True, print_board=True)"
   ]
  },
  {
   "attachments": {},
   "cell_type": "markdown",
   "metadata": {},
   "source": [
    "## Now we learn and then try to play"
   ]
  },
  {
   "cell_type": "code",
   "execution_count": 92,
   "metadata": {},
   "outputs": [
    {
     "name": "stdout",
     "output_type": "stream",
     "text": [
      "won: 77\n",
      "lost: 104\n",
      "draw: 19\n",
      "\n",
      "won: 128\n",
      "lost: 43\n",
      "draw: 29\n",
      "\n"
     ]
    }
   ],
   "source": [
    "b = ttt.Board()\n",
    "p1 = LearningAgent()\n",
    "p2 = RandomAgent()\n",
    "p3 = ExpertAgent()\n",
    "\n",
    "#create a baseline\n",
    "ttt.play_games(b, p1, [p2, p3], n_games=100, logging=True, toy_games=True)\n",
    "\n",
    "#learn\n",
    "ttt.play_games(b, p1, [p2, p3], n_games=10000)\n",
    "\n",
    "#play to confront with baseline\n",
    "p1.stop_exploring                       #set epsilon to 0 to avoid random moves\n",
    "ttt.play_games(b, p1, [p2, p3], n_games=100, logging=True, toy_games=True)"
   ]
  }
 ],
 "metadata": {
  "kernelspec": {
   "display_name": "venv",
   "language": "python",
   "name": "python3"
  },
  "language_info": {
   "codemirror_mode": {
    "name": "ipython",
    "version": 3
   },
   "file_extension": ".py",
   "mimetype": "text/x-python",
   "name": "python",
   "nbconvert_exporter": "python",
   "pygments_lexer": "ipython3",
   "version": "3.10.12"
  },
  "orig_nbformat": 4
 },
 "nbformat": 4,
 "nbformat_minor": 2
}
