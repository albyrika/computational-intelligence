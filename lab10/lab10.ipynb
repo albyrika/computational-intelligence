{
 "cells": [
  {
   "attachments": {},
   "cell_type": "markdown",
   "metadata": {},
   "source": [
    "## Lab 10\n",
    "\n",
    "Deadline by 25/12/2023\n",
    "Devise a strategy to play tic-tac-toe by means of RL"
   ]
  },
  {
   "cell_type": "code",
   "execution_count": 1,
   "metadata": {},
   "outputs": [],
   "source": [
    "import lab10_lib as ttt\n",
    "import random as rand\n",
    "from copy import deepcopy\n",
    "from collections import defaultdict\n",
    "import numpy"
   ]
  },
  {
   "attachments": {},
   "cell_type": "markdown",
   "metadata": {},
   "source": [
    "Example to show how to use the board"
   ]
  },
  {
   "cell_type": "code",
   "execution_count": 2,
   "metadata": {},
   "outputs": [
    {
     "name": "stdout",
     "output_type": "stream",
     "text": [
      "⭕️❌  \n",
      "❌❌⭕️\n",
      "❌⭕️❌\n",
      "\n",
      "None\n"
     ]
    }
   ],
   "source": [
    "board = ttt.Board()\n",
    "board.update((1,1), 1)\n",
    "board.update((0,0), -1)\n",
    "board.update((2,0), 1)\n",
    "board.update((0,1), 1)\n",
    "board.update((1,2), -1)\n",
    "board.update((1,0), 1)\n",
    "board.update((2,2), 1)\n",
    "board.update((2,1), -1)\n",
    "#board.update((0,2), -1)\n",
    "\n",
    "print(board)\n",
    "print(board.winner())"
   ]
  },
  {
   "attachments": {},
   "cell_type": "markdown",
   "metadata": {},
   "source": [
    "Some strategies: random, expert, learning"
   ]
  },
  {
   "cell_type": "code",
   "execution_count": 3,
   "metadata": {},
   "outputs": [],
   "source": [
    "class RandomAgent():\n",
    "    \"\"\"returns a random move\"\"\"\n",
    "    def generate_move(self, board: ttt.Board) -> ttt.Move:\n",
    "        possible = board.possible_moves()\n",
    "        return possible[rand.randint(0, len(possible)-1)]\n",
    "\n",
    "\n",
    "class ExpertAgent():\n",
    "    \"\"\"checks if it possible to block a winning move, else returns random\"\"\"\n",
    "    def generate_move(self, board: ttt.Board) -> ttt.Move:\n",
    "        possible = board.possible_moves()\n",
    "        for m in possible:\n",
    "            sim_board = ttt.Board(deepcopy(board.state))\n",
    "            sim_board.update(m, 1)\n",
    "            if sim_board.winner() == 1:\n",
    "                return m\n",
    "        return possible[rand.randint(0, len(possible)-1)]\n",
    "    \n",
    "\n",
    "class LearningAgent():\n",
    "    \"\"\"learns how to play by playing a lot of games\"\"\"\n",
    "    def __init__(self) -> None:\n",
    "        self.qtable = defaultdict(float)\n",
    "        self.index = 0 \n",
    "        self.trajectory = [] \n",
    "        self.epsilon = 0.1                      #probability to make a random move\n",
    "        self.lr = 0.5                           #learning rate\n",
    "        self.gamma = 0.8                        #discount rate\n",
    "\n",
    "    def stop_exploring(self) -> None:\n",
    "        \"\"\"sets epsilon to 0 to avoid random moves from now on\"\"\"\n",
    "        self.epsilon = 0.0\n",
    "\n",
    "    def garbage_collect(self) -> None:\n",
    "        \"\"\"resets trajectory, use it to avoid memory leaks\"\"\"\n",
    "        self.trajectory = []    \n",
    "\n",
    "    def generate_move(self, board: ttt.Board) -> ttt.Move:\n",
    "        \"\"\"generates a move using, if possible the best one\"\"\"\n",
    "        possible = board.possible_moves()\n",
    "        keys = [ (board.state, move) for move in possible ]             #generate all the possible keys = (state, action)\n",
    "        if len(keys) == 0 or rand.random() < self.epsilon:\n",
    "            return possible[rand.randint(0, len(possible)-1)]           #return a random move if no idea on what to do\n",
    "        vals = [ self.qtable[k] for k in keys ]\n",
    "        choice = keys[numpy.argmax(vals)]                               #choose the highest quality move\n",
    "        self.trajectory.append(choice)                                  #save the move for later\n",
    "        return choice[1]\n",
    "    \n",
    "    def feedback(self, won: int) -> None:\n",
    "        \"\"\"updates qtable and resets trajectory\"\"\"\n",
    "        won = [-1, 15, -5][won]      #draw, win, lose\n",
    "        i = 0\n",
    "        self.trajectory.reverse()\n",
    "        for c in self.trajectory:\n",
    "            maxq = 0\n",
    "            if i != 0:                                              #apply q-learning formula\n",
    "                board = ttt.Board(self.trajectory[i-1][0])          #take the board after applying the move\n",
    "                possible = board.possible_moves()                    #compute all the possible (state, action) to find the max\n",
    "                keys = [ (board.state, move) for move in possible ]\n",
    "                maxq = max([self.qtable[k] for k in keys])\n",
    "            self.qtable[c] = (1 - self.lr) * self.qtable[c] + self.lr * (won + self.gamma * maxq)   #update qtable\n",
    "            i += 1\n",
    "        self.trajectory = []                                        #reset trajectory    "
   ]
  },
  {
   "attachments": {},
   "cell_type": "markdown",
   "metadata": {},
   "source": [
    "Toy example to show how it works"
   ]
  },
  {
   "cell_type": "code",
   "execution_count": 4,
   "metadata": {},
   "outputs": [
    {
     "name": "stdout",
     "output_type": "stream",
     "text": [
      "⭕️❌⭕️\n",
      "❌❌⭕️\n",
      "⭕️⭕️❌\n",
      "\n",
      "❌❌⭕️\n",
      "❌    \n",
      "⭕️⭕️⭕️\n",
      "\n",
      "won: 0\n",
      "lost: 1\n",
      "draw: 1\n",
      "\n"
     ]
    }
   ],
   "source": [
    "b = ttt.Board()\n",
    "p1 = LearningAgent()\n",
    "p2 = RandomAgent()\n",
    "p3 = ExpertAgent()\n",
    "\n",
    "ttt.play_games(b, p1, [p2, p3], n_games=1, logging=True, toy_games=True, print_board=True)"
   ]
  },
  {
   "attachments": {},
   "cell_type": "markdown",
   "metadata": {},
   "source": [
    "## Now we learn and then try to play"
   ]
  },
  {
   "cell_type": "code",
   "execution_count": 5,
   "metadata": {},
   "outputs": [
    {
     "name": "stdout",
     "output_type": "stream",
     "text": [
      "Before learning:\n",
      "won: 73\n",
      "lost: 97\n",
      "draw: 30\n",
      "\n",
      "After learning:\n",
      "won: 139\n",
      "lost: 28\n",
      "draw: 33\n",
      "\n"
     ]
    }
   ],
   "source": [
    "b = ttt.Board()\n",
    "p1 = LearningAgent()\n",
    "p2 = RandomAgent()\n",
    "p3 = ExpertAgent()\n",
    "\n",
    "#create a baseline\n",
    "print('Before learning:')\n",
    "ttt.play_games(b, p1, [p2, p3], logging=True, toy_games=True)\n",
    "p1.garbage_collect()                    #delete the trajectory to avoid updateing all the states after the first real game\n",
    "\n",
    "#learn\n",
    "ttt.play_games(b, p1, [p2, p3], n_games=10000)\n",
    "\n",
    "#play to confront with baseline\n",
    "print('After learning:')\n",
    "p1.stop_exploring                       #set epsilon to 0 to avoid random moves\n",
    "ttt.play_games(b, p1, [p2, p3], logging=True, toy_games=True)\n",
    "p1.garbage_collect()"
   ]
  }
 ],
 "metadata": {
  "kernelspec": {
   "display_name": "venv",
   "language": "python",
   "name": "python3"
  },
  "language_info": {
   "codemirror_mode": {
    "name": "ipython",
    "version": 3
   },
   "file_extension": ".py",
   "mimetype": "text/x-python",
   "name": "python",
   "nbconvert_exporter": "python",
   "pygments_lexer": "ipython3",
   "version": "3.10.12"
  },
  "orig_nbformat": 4
 },
 "nbformat": 4,
 "nbformat_minor": 2
}
