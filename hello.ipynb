{
 "cells": [
  {
   "cell_type": "code",
   "execution_count": 1,
   "metadata": {},
   "outputs": [],
   "source": [
    "def my_func(arg_1, arg_2 = 6):\n",
    "    print('enter')\n",
    "    print(arg_1, arg_2, sep = ' ++ ')"
   ]
  },
  {
   "cell_type": "code",
   "execution_count": 2,
   "metadata": {},
   "outputs": [
    {
     "name": "stdout",
     "output_type": "stream",
     "text": [
      "enter\n",
      "1 ++ 15\n",
      "enter\n",
      "5 ++ 6\n"
     ]
    }
   ],
   "source": [
    "my_func(1, 15)\n",
    "my_func(5)"
   ]
  },
  {
   "cell_type": "code",
   "execution_count": 3,
   "metadata": {},
   "outputs": [
    {
     "name": "stdout",
     "output_type": "stream",
     "text": [
      "<class 'tuple'>\n",
      "(1, 2, 3, 45, 8)\n",
      "<class 'dict'>\n",
      "{'foo': 1, 'bar': 2}\n"
     ]
    }
   ],
   "source": [
    "def array(*args, **dict): # * passed as tuple and ** as dictionary\n",
    "    print(type(args))\n",
    "    print(args)\n",
    "    print(type(dict))\n",
    "    print(dict)\n",
    "\n",
    "array(1, 2, 3, 45, 8, foo=1, bar=2)    "
   ]
  },
  {
   "cell_type": "code",
   "execution_count": 4,
   "metadata": {},
   "outputs": [
    {
     "name": "stdout",
     "output_type": "stream",
     "text": [
      "(1, 2, 3, 45)\n",
      "!(1, 2, 3, 45)\n"
     ]
    }
   ],
   "source": [
    "def base(*args):\n",
    "    print(args)\n",
    "\n",
    "def wrapper(red, *args):\n",
    "    if red == 0:\n",
    "        print('!', end='')\n",
    "    base(*args)  \n",
    "\n",
    "wrapper(1, 1, 2, 3, 45) \n",
    "wrapper(0, 1, 2, 3, 45)     "
   ]
  },
  {
   "cell_type": "code",
   "execution_count": 5,
   "metadata": {},
   "outputs": [
    {
     "name": "stdout",
     "output_type": "stream",
     "text": [
      "[0, 1, 2, 3, 4, 5, 6, 7, 8, 9]\n"
     ]
    },
    {
     "data": {
      "text/plain": [
       "(0, 1, 2, 3, 4, 5, 6, 7, 8, 9)"
      ]
     },
     "execution_count": 5,
     "metadata": {},
     "output_type": "execute_result"
    }
   ],
   "source": [
    "a = [x for x in range(10)]  #list comprehension\n",
    "print(a)\n",
    "tuple(x for x in range(10))"
   ]
  },
  {
   "cell_type": "code",
   "execution_count": 6,
   "metadata": {},
   "outputs": [
    {
     "data": {
      "text/plain": [
       "[1, 0, 1, 1, 1, 2, 1, 3, 1, 4, 1, 5, 1, 6, 1, 7, 1, 8, 1, 9]"
      ]
     },
     "execution_count": 6,
     "metadata": {},
     "output_type": "execute_result"
    }
   ],
   "source": [
    "[x**y for x in range(10) for y in range(2)]"
   ]
  },
  {
   "cell_type": "code",
   "execution_count": 7,
   "metadata": {},
   "outputs": [
    {
     "name": "stdout",
     "output_type": "stream",
     "text": [
      "['fiorio', 'alberto', 'ricatto', 'ludovico', 'giovanni', 'squillero']\n",
      "['squillero', 'ludovico', 'giovanni', 'alberto', 'ricatto', 'fiorio']\n",
      "['alberto', 'fiorio', 'giovanni', 'ludovico', 'ricatto', 'squillero']\n"
     ]
    }
   ],
   "source": [
    "name = 'alberto ricatto ludovico fiorio giovanni squillero'\n",
    "name = name.split()\n",
    "\n",
    "name.sort(key = lambda e: len(e)) #length\n",
    "print(name)\n",
    "\n",
    "name.sort(key = lambda e: len(e), reverse=True) # - length, or reverse\n",
    "print(name)\n",
    "\n",
    "name.sort() #alphabetic order\n",
    "print(name)"
   ]
  }
 ],
 "metadata": {
  "kernelspec": {
   "display_name": "venv",
   "language": "python",
   "name": "python3"
  },
  "language_info": {
   "codemirror_mode": {
    "name": "ipython",
    "version": 3
   },
   "file_extension": ".py",
   "mimetype": "text/x-python",
   "name": "python",
   "nbconvert_exporter": "python",
   "pygments_lexer": "ipython3",
   "version": "3.10.12"
  },
  "orig_nbformat": 4
 },
 "nbformat": 4,
 "nbformat_minor": 2
}
