{
 "cells": [
  {
   "cell_type": "markdown",
   "metadata": {},
   "source": [
    "Copyright **`(c)`** 2023 Giovanni Squillero `<giovanni.squillero@polito.it>`  \n",
    "[`https://github.com/squillero/computational-intelligence`](https://github.com/squillero/computational-intelligence)  \n",
    "Free for personal or classroom use; see [`LICENSE.md`](https://github.com/squillero/computational-intelligence/blob/master/LICENSE.md) for details.  "
   ]
  },
  {
   "cell_type": "code",
   "execution_count": 24,
   "metadata": {},
   "outputs": [],
   "source": [
    "from random import random\n",
    "from functools import reduce\n",
    "from collections import namedtuple\n",
    "from queue import PriorityQueue, SimpleQueue, LifoQueue\n",
    "\n",
    "import numpy as np"
   ]
  },
  {
   "cell_type": "code",
   "execution_count": 25,
   "metadata": {},
   "outputs": [],
   "source": [
    "PROBLEM_SIZE = 20\n",
    "NUM_SETS = 12\n",
    "SETS = tuple(np.array([random() < .3 for _ in range(PROBLEM_SIZE)]) for _ in range(NUM_SETS))\n",
    "State = namedtuple('State', ['taken', 'not_taken'])"
   ]
  },
  {
   "cell_type": "code",
   "execution_count": 26,
   "metadata": {},
   "outputs": [],
   "source": [
    "def goal_check(state):\n",
    "    return np.all(reduce(np.logical_or, [SETS[i] for i in state.taken], np.array([False for _ in range(PROBLEM_SIZE)])))"
   ]
  },
  {
   "cell_type": "code",
   "execution_count": 27,
   "metadata": {},
   "outputs": [],
   "source": [
    "assert goal_check(State(set(range(NUM_SETS)), set())), \"Probelm not solvable\""
   ]
  },
  {
   "cell_type": "code",
   "execution_count": 28,
   "metadata": {},
   "outputs": [],
   "source": [
    "def priority(state):\n",
    "    return len(state.taken)\n",
    "\n",
    "def distance(state):    #G + H function considering both the distance from start and to end -> never overestimate\n",
    "    return len(state.taken) + PROBLEM_SIZE - sum(\n",
    "        reduce( np.logical_or,\n",
    "            [SETS[i] for i in state.taken],\n",
    "            np.array([False for _ in range(PROBLEM_SIZE)]), ))\n",
    "\n",
    "MAX_COVER = 0\n",
    "for i in range(NUM_SETS):\n",
    "    if SETS[i].sum() > MAX_COVER:\n",
    "        MAX_COVER = SETS[i].sum()\n",
    "\n",
    "def distance_(state):   #another G + H function, considers as distance to goal the sum of missing tiles divided by the max number of tiles in a set \n",
    "    nmissing = sum(\n",
    "        reduce( np.logical_or,\n",
    "            [SETS[i] for i in state.taken],\n",
    "            np.array([False for _ in range(PROBLEM_SIZE)]), ))\n",
    "    #print(nmissing)\n",
    "    return len(state.taken) + (nmissing / MAX_COVER)\n",
    "\n",
    "\n",
    "# function to take actions in order -> i want sets that have a lot of valuable tiles \n",
    "#   -> compute sum over columns in which it is True / sum over row\n",
    "order = []\n",
    "for i in range(NUM_SETS):\n",
    "    value = 0\n",
    "    for col in range(PROBLEM_SIZE):\n",
    "        for j in range(NUM_SETS):    \n",
    "            value += SETS[j][col]\n",
    "    value /= SETS[i].sum()\n",
    "    order.append(value)\n",
    "\n",
    "def tileSetOrder(n):\n",
    "    return order[n]\n"
   ]
  },
  {
   "cell_type": "code",
   "execution_count": 29,
   "metadata": {},
   "outputs": [
    {
     "name": "stdout",
     "output_type": "stream",
     "text": [
      "Solved in 2 steps\n"
     ]
    }
   ],
   "source": [
    "# frontier = LifoQueue()\n",
    "frontier = PriorityQueue()\n",
    "# priority queue uses as priority the first element of the tuple -> i will use a custom priority\n",
    "\n",
    "s = State(set(), set(range(NUM_SETS)))\n",
    "\n",
    "#consider: if a set has an 'exclusive' tile, we automatically take it\n",
    "for i in range(PROBLEM_SIZE):\n",
    "    n = 0\n",
    "    index = 0\n",
    "    for j in range(NUM_SETS):\n",
    "        if SETS[j][i] == True:\n",
    "            n += 1\n",
    "            if n >= 2:\n",
    "                break\n",
    "            index = j\n",
    "    if n == 1:\n",
    "        #print('found exclusive in set:', index, 'at i:', i)        \n",
    "        s = State(s.taken | {index}, s.not_taken - {index})\n",
    "\n",
    "#initialize and go\n",
    "frontier.put((distance(s), s))\n",
    "counter = 0\n",
    "current_state = frontier.get()[1]\n",
    "while not goal_check(current_state):\n",
    "    counter += 1\n",
    "    # I want to take actions from the not taken set in a certain order, the most 'valuable' first\n",
    "    actions = list(current_state.not_taken)\n",
    "    actions.sort(key = tileSetOrder)\n",
    "    for action in actions:\n",
    "        new_state = State(\n",
    "            current_state.taken ^ {action}, current_state.not_taken ^ {action}\n",
    "        )\n",
    "        frontier.put((distance(new_state), new_state))\n",
    "    current_state = frontier.get()[1]\n",
    "\n",
    "print(f\"Solved in {counter} steps\")"
   ]
  },
  {
   "cell_type": "code",
   "execution_count": 30,
   "metadata": {},
   "outputs": [
    {
     "name": "stdout",
     "output_type": "stream",
     "text": [
      "State(taken={0, 1, 3, 5, 9}, not_taken={2, 4, 6, 7, 8, 10, 11})\n"
     ]
    },
    {
     "data": {
      "text/plain": [
       "5"
      ]
     },
     "execution_count": 30,
     "metadata": {},
     "output_type": "execute_result"
    }
   ],
   "source": [
    "print(current_state)\n",
    "len(current_state.taken)"
   ]
  },
  {
   "cell_type": "code",
   "execution_count": 31,
   "metadata": {},
   "outputs": [
    {
     "data": {
      "text/plain": [
       "True"
      ]
     },
     "execution_count": 31,
     "metadata": {},
     "output_type": "execute_result"
    }
   ],
   "source": [
    "goal_check(current_state)"
   ]
  }
 ],
 "metadata": {
  "kernelspec": {
   "display_name": "ci-P-7LqQ3C-py3.11",
   "language": "python",
   "name": "python3"
  },
  "language_info": {
   "codemirror_mode": {
    "name": "ipython",
    "version": 3
   },
   "file_extension": ".py",
   "mimetype": "text/x-python",
   "name": "python",
   "nbconvert_exporter": "python",
   "pygments_lexer": "ipython3",
   "version": "3.10.12"
  }
 },
 "nbformat": 4,
 "nbformat_minor": 2
}
