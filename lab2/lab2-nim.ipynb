{
 "cells": [
  {
   "cell_type": "markdown",
   "metadata": {
    "pycharm": {
     "name": "#%% md\n"
    }
   },
   "source": [
    "Copyright **`(c)`** 2022 Giovanni Squillero `<squillero@polito.it>`  \n",
    "[`https://github.com/squillero/computational-intelligence`](https://github.com/squillero/computational-intelligence)  \n",
    "Free for personal or classroom use; see [`LICENSE.md`](https://github.com/squillero/computational-intelligence/blob/master/LICENSE.md) for details.  \n"
   ]
  },
  {
   "cell_type": "markdown",
   "metadata": {
    "pycharm": {
     "name": "#%%\n"
    }
   },
   "source": [
    "# Lab 3: ES\n",
    "\n",
    "## Task\n",
    "\n",
    "Write agents able to play [*Nim*](https://en.wikipedia.org/wiki/Nim), with an arbitrary number of rows and an upper bound $k$ on the number of objects that can be removed in a turn (a.k.a., *subtraction game*).\n",
    "\n",
    "The goal of the game is to **avoid** taking the last object.\n",
    "\n",
    "* Task2.1: An agent using fixed rules based on *nim-sum* (i.e., an *expert system*)\n",
    "* Task2.2: An agent using evolved rules using ES\n",
    "\n",
    "## Instructions\n",
    "\n",
    "* Create the directory `lab2` inside the course repo \n",
    "* Put a `README.md` and your solution (all the files, code and auxiliary data if needed)\n",
    "\n",
    "## Notes\n",
    "\n",
    "* Working in group is not only allowed, but recommended (see: [Ubuntu](https://en.wikipedia.org/wiki/Ubuntu_philosophy) and [Cooperative Learning](https://files.eric.ed.gov/fulltext/EJ1096789.pdf)). Collaborations must be explicitly declared in the `README.md`.\n",
    "* [Yanking](https://www.emacswiki.org/emacs/KillingAndYanking) from the internet is allowed, but sources must be explicitly declared in the `README.md`.\n",
    "\n"
   ]
  },
  {
   "cell_type": "code",
   "execution_count": 64,
   "metadata": {},
   "outputs": [],
   "source": [
    "import logging\n",
    "from pprint import pprint, pformat\n",
    "from collections import namedtuple\n",
    "import random\n",
    "from copy import deepcopy\n",
    "import numpy as np\n",
    "import math\n"
   ]
  },
  {
   "cell_type": "markdown",
   "metadata": {},
   "source": [
    "## The *Nim* and *Nimply* classes"
   ]
  },
  {
   "cell_type": "code",
   "execution_count": 65,
   "metadata": {},
   "outputs": [],
   "source": [
    "Nimply = namedtuple(\"Nimply\", \"row, num_objects\")\n"
   ]
  },
  {
   "cell_type": "code",
   "execution_count": 66,
   "metadata": {},
   "outputs": [],
   "source": [
    "class Nim:\n",
    "    def __init__(self, num_rows: int) -> None:\n",
    "        self._rows = [i * 2 + 1 for i in range(num_rows)]\n",
    "\n",
    "    def __bool__(self):\n",
    "        return sum(self._rows) > 0\n",
    "\n",
    "    def __str__(self):\n",
    "        return \"<\" + \" \".join(str(_) for _ in self._rows) + \">\"\n",
    "\n",
    "    @property\n",
    "    def rows(self) -> tuple:\n",
    "        return tuple(self._rows)\n",
    "\n",
    "    def nimming(self, ply: Nimply) -> None:\n",
    "        row, num_objects = ply\n",
    "        assert self._rows[row] >= num_objects\n",
    "        self._rows[row] -= num_objects\n"
   ]
  },
  {
   "cell_type": "markdown",
   "metadata": {},
   "source": [
    "## Sample (and silly) startegies "
   ]
  },
  {
   "cell_type": "code",
   "execution_count": 67,
   "metadata": {},
   "outputs": [],
   "source": [
    "def pure_random(state: Nim) -> Nimply:\n",
    "    \"\"\"A completely random move\"\"\"\n",
    "    row = random.choice([r for r, c in enumerate(state.rows) if c > 0])\n",
    "    num_objects = random.randint(1, state.rows[row])\n",
    "    return Nimply(row, num_objects)\n"
   ]
  },
  {
   "cell_type": "code",
   "execution_count": 68,
   "metadata": {},
   "outputs": [],
   "source": [
    "def take_from_last(state: Nim) -> Nimply:\n",
    "    \"\"\"Takes a random number from the last row\"\"\"\n",
    "    row = max([r for r, c in enumerate(state.rows) if c > 0])\n",
    "    num_objects = random.randint(1, state.rows[row])\n",
    "    return Nimply(row, num_objects)"
   ]
  },
  {
   "cell_type": "code",
   "execution_count": 69,
   "metadata": {},
   "outputs": [],
   "source": [
    "def take_from_first(state: Nim) -> Nimply:\n",
    "    \"\"\"Takes a random number from the first row\"\"\"\n",
    "    row = min([r for r, c in enumerate(state.rows) if c > 0])\n",
    "    num_objects = random.randint(1, state.rows[row])\n",
    "    return Nimply(row, num_objects)"
   ]
  },
  {
   "cell_type": "code",
   "execution_count": 70,
   "metadata": {},
   "outputs": [],
   "source": [
    "def gabriele(state: Nim) -> Nimply:\n",
    "    \"\"\"Pick always the maximum possible number of the lowest row\"\"\"\n",
    "    possible_moves = [(r, o) for r, c in enumerate(state.rows) for o in range(1, c + 1)]\n",
    "    return Nimply(*max(possible_moves, key=lambda m: (m[0], m[1])))\n"
   ]
  },
  {
   "cell_type": "code",
   "execution_count": 71,
   "metadata": {},
   "outputs": [],
   "source": [
    "def eleirbag(state: Nim) -> Nimply:\n",
    "    \"\"\"Pick always the maximum possible number of the highest row, the opposite of gabriele\"\"\"\n",
    "    possible_moves = [(r, o) for r, c in enumerate(state.rows) for o in range(1, c + 1)]\n",
    "    return Nimply(*max(possible_moves, key=lambda m: (-m[0], m[1])))"
   ]
  },
  {
   "cell_type": "code",
   "execution_count": 72,
   "metadata": {},
   "outputs": [],
   "source": [
    "import numpy as np\n",
    "\n",
    "\n",
    "def nim_sum(state: Nim) -> int:\n",
    "    tmp = np.array([tuple(int(x) for x in f\"{c:032b}\") for c in state.rows])\n",
    "    xor = tmp.sum(axis=0) % 2\n",
    "    return int(\"\".join(str(_) for _ in xor), base=2)\n",
    "\n",
    "\n",
    "def analize(raw: Nim) -> dict:\n",
    "    cooked = dict()\n",
    "    cooked[\"possible_moves\"] = dict()\n",
    "    for ply in (Nimply(r, o) for r, c in enumerate(raw.rows) for o in range(1, c + 1)):\n",
    "        tmp = deepcopy(raw)\n",
    "        tmp.nimming(ply)\n",
    "        cooked[\"possible_moves\"][ply] = nim_sum(tmp)\n",
    "    return cooked\n",
    "\n",
    "\n",
    "def optimal(state: Nim) -> Nimply:\n",
    "    analysis = analize(state)\n",
    "    logging.debug(f\"analysis:\\n{pformat(analysis)}\")\n",
    "    spicy_moves = [ply for ply, ns in analysis[\"possible_moves\"].items() if ns != 0]\n",
    "    if not spicy_moves:\n",
    "        spicy_moves = list(analysis[\"possible_moves\"].keys())\n",
    "    ply = random.choice(spicy_moves)\n",
    "    return ply\n"
   ]
  },
  {
   "cell_type": "markdown",
   "metadata": {},
   "source": [
    "## Oversimplified match"
   ]
  },
  {
   "cell_type": "code",
   "execution_count": 73,
   "metadata": {},
   "outputs": [
    {
     "name": "stderr",
     "output_type": "stream",
     "text": [
      "INFO:root:init : <1 3 5 7 9>\n",
      "INFO:root:ply: player 0 plays Nimply(row=4, num_objects=9)\n",
      "INFO:root:status: <1 3 5 7 0>\n",
      "INFO:root:ply: player 1 plays Nimply(row=2, num_objects=1)\n",
      "INFO:root:status: <1 3 4 7 0>\n",
      "INFO:root:ply: player 0 plays Nimply(row=3, num_objects=7)\n",
      "INFO:root:status: <1 3 4 0 0>\n",
      "INFO:root:ply: player 1 plays Nimply(row=0, num_objects=1)\n",
      "INFO:root:status: <0 3 4 0 0>\n",
      "INFO:root:ply: player 0 plays Nimply(row=2, num_objects=4)\n",
      "INFO:root:status: <0 3 0 0 0>\n",
      "INFO:root:ply: player 1 plays Nimply(row=1, num_objects=1)\n",
      "INFO:root:status: <0 2 0 0 0>\n",
      "INFO:root:ply: player 0 plays Nimply(row=1, num_objects=2)\n",
      "INFO:root:status: <0 0 0 0 0>\n",
      "INFO:root:status: Player 1 won!\n"
     ]
    }
   ],
   "source": [
    "logging.getLogger().setLevel(logging.INFO)\n",
    "\n",
    "strategy = (gabriele, optimal)\n",
    "\n",
    "nim = Nim(5)\n",
    "logging.info(f\"init : {nim}\")\n",
    "player = 0\n",
    "while nim:\n",
    "    ply = strategy[player](nim)\n",
    "    logging.info(f\"ply: player {player} plays {ply}\")\n",
    "    nim.nimming(ply)\n",
    "    logging.info(f\"status: {nim}\")\n",
    "    player = 1 - player\n",
    "logging.info(f\"status: Player {player} won!\")"
   ]
  },
  {
   "cell_type": "code",
   "execution_count": 74,
   "metadata": {},
   "outputs": [
    {
     "name": "stdout",
     "output_type": "stream",
     "text": [
      "{<function optimal at 0x7ff8a0042050>: 1, <function pure_random at 0x7ff87d0a28c0>: 1, <function take_from_last at 0x7ff87d0a2cb0>: 1, <function take_from_first at 0x7ff87d0a2c20>: 1, <function eleirbag at 0x7ff87d0a2d40>: 1}\n",
      "{<function optimal at 0x7ff8a0042050>: 1.1609229959549923, <function pure_random at 0x7ff87d0a28c0>: 1.015478287979048, <function take_from_last at 0x7ff87d0a2cb0>: 0.6009595187581902, <function take_from_first at 0x7ff87d0a2c20>: 1.0350592914958952, <function eleirbag at 0x7ff87d0a2d40>: 0.6791584646960112}\n"
     ]
    }
   ],
   "source": [
    "class adaptive_class:\n",
    "    def __init__(self, stdev = 0.2, stdev_step = 0.1) -> None:\n",
    "        self.stdev = stdev\n",
    "        self.stdev_step = stdev_step\n",
    "        self.genome = {optimal: 0, pure_random: 0, take_from_last: 0, take_from_first: 0, eleirbag: 0}\n",
    "        for k in self.genome.keys():\n",
    "            self.genome[k] = 1\n",
    "\n",
    "    def tweak(self) -> None:\n",
    "        for k in self.genome.keys():\n",
    "            self.genome[k] += np.random.normal(0, self.stdev) \n",
    "            self.genome[k] = 0 if self.genome[k] < 0 else self.genome[k] \n",
    "\n",
    "    def apply_rule(self, ratio) -> None:\n",
    "        self.stdev += self.stdev_step * (ratio - 0.2)\n",
    "\n",
    "    def adaptive(self, state: Nim) -> Nimply:\n",
    "        \"\"\"A strategy that can adapt its parameters\"\"\"\n",
    "        a_random = random.random() * sum(self.genome.values())\n",
    "        k = pure_random\n",
    "        for k in self.genome.keys():\n",
    "            a_random -= self.genome[k]\n",
    "            if a_random <= 0:\n",
    "                break \n",
    "        return k(state)  \n",
    "\n",
    "adaptive_obj = adaptive_class()\n",
    "adaptive_obj.adaptive(Nim(5))\n",
    "print(adaptive_obj.genome)\n",
    "adaptive_obj.tweak()\n",
    "print(adaptive_obj.genome)"
   ]
  },
  {
   "cell_type": "code",
   "execution_count": 75,
   "metadata": {},
   "outputs": [],
   "source": [
    "def play_game(strategy: tuple) -> int:\n",
    "    \"\"\"plays a game of nim(5) and returns the winning player index\"\"\"\n",
    "    nim = Nim(5)\n",
    "    player = 0\n",
    "    while nim:\n",
    "        ply = strategy[player](nim)\n",
    "        nim.nimming(ply)\n",
    "        player = 1 - player\n",
    "    return player\n",
    "    "
   ]
  },
  {
   "cell_type": "code",
   "execution_count": 77,
   "metadata": {},
   "outputs": [],
   "source": [
    "def getratio(adaptive_obj: adaptive_class) -> float: \n",
    "    \"\"\"return winning ratio of an adaptive strategy playing 100 games vs gabriele\"\"\"\n",
    "    wins = [0, 0]\n",
    "    strategy = (adaptive_obj.adaptive, gabriele)\n",
    "    for _ in range(50):\n",
    "        wins[play_game(strategy)] += 1\n",
    "    strategy = (gabriele, adaptive_obj.adaptive) \n",
    "    for _ in range(50):\n",
    "        wins[1 - play_game(strategy)] += 1   \n",
    "    return wins[0] / wins[1]"
   ]
  },
  {
   "attachments": {},
   "cell_type": "markdown",
   "metadata": {},
   "source": [
    "## Adapting the strategy\n",
    " how does it work:\n",
    "  - we create 10 copies of the original adaptive object\n",
    "  - for each copy, we play 100 games against gabriele (50 going first, 50 going second)\n",
    "  - we measure the winning rate = wins / total games\n",
    "  - we measure how many are better to apply the 1/5 rule\n",
    "  - we take the best among the 10 and tweak the stdev based on 1/5 rule\n",
    "  - repeat many times and see the result"
   ]
  },
  {
   "cell_type": "code",
   "execution_count": 79,
   "metadata": {},
   "outputs": [
    {
     "name": "stdout",
     "output_type": "stream",
     "text": [
      "1.7027027027027026\n"
     ]
    }
   ],
   "source": [
    "adaptive_obj = adaptive_class()\n",
    "ratio_prev = getratio(adaptive_obj)\n",
    "print(ratio_prev)"
   ]
  },
  {
   "cell_type": "code",
   "execution_count": null,
   "metadata": {},
   "outputs": [],
   "source": []
  }
 ],
 "metadata": {
  "kernelspec": {
   "display_name": "Python 3.10.7 ('ci22-dPIXJ0_o-py3.10')",
   "language": "python",
   "name": "python3"
  },
  "language_info": {
   "codemirror_mode": {
    "name": "ipython",
    "version": 3
   },
   "file_extension": ".py",
   "mimetype": "text/x-python",
   "name": "python",
   "nbconvert_exporter": "python",
   "pygments_lexer": "ipython3",
   "version": "3.10.12"
  },
  "vscode": {
   "interpreter": {
    "hash": "10197e8e2f2aa67e2c349105091c77f4cd384fce4877865f002d9ec653f96bc0"
   }
  }
 },
 "nbformat": 4,
 "nbformat_minor": 2
}
