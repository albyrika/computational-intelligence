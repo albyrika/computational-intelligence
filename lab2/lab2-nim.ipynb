{
 "cells": [
  {
   "cell_type": "markdown",
   "metadata": {
    "pycharm": {
     "name": "#%% md\n"
    }
   },
   "source": [
    "Copyright **`(c)`** 2022 Giovanni Squillero `<squillero@polito.it>`  \n",
    "[`https://github.com/squillero/computational-intelligence`](https://github.com/squillero/computational-intelligence)  \n",
    "Free for personal or classroom use; see [`LICENSE.md`](https://github.com/squillero/computational-intelligence/blob/master/LICENSE.md) for details.  \n"
   ]
  },
  {
   "cell_type": "markdown",
   "metadata": {
    "pycharm": {
     "name": "#%%\n"
    }
   },
   "source": [
    "# Lab 3: ES\n",
    "\n",
    "## Task\n",
    "\n",
    "Write agents able to play [*Nim*](https://en.wikipedia.org/wiki/Nim), with an arbitrary number of rows and an upper bound $k$ on the number of objects that can be removed in a turn (a.k.a., *subtraction game*).\n",
    "\n",
    "The goal of the game is to **avoid** taking the last object.\n",
    "\n",
    "* Task2.1: An agent using fixed rules based on *nim-sum* (i.e., an *expert system*)\n",
    "* Task2.2: An agent using evolved rules using ES\n",
    "\n",
    "## Instructions\n",
    "\n",
    "* Create the directory `lab2` inside the course repo \n",
    "* Put a `README.md` and your solution (all the files, code and auxiliary data if needed)\n",
    "\n",
    "## Notes\n",
    "\n",
    "* Working in group is not only allowed, but recommended (see: [Ubuntu](https://en.wikipedia.org/wiki/Ubuntu_philosophy) and [Cooperative Learning](https://files.eric.ed.gov/fulltext/EJ1096789.pdf)). Collaborations must be explicitly declared in the `README.md`.\n",
    "* [Yanking](https://www.emacswiki.org/emacs/KillingAndYanking) from the internet is allowed, but sources must be explicitly declared in the `README.md`.\n",
    "\n"
   ]
  },
  {
   "cell_type": "code",
   "execution_count": 54,
   "metadata": {},
   "outputs": [],
   "source": [
    "import logging\n",
    "from pprint import pprint, pformat\n",
    "from collections import namedtuple\n",
    "import random\n",
    "from copy import deepcopy\n",
    "import numpy as np"
   ]
  },
  {
   "cell_type": "markdown",
   "metadata": {},
   "source": [
    "## The *Nim* and *Nimply* classes"
   ]
  },
  {
   "cell_type": "code",
   "execution_count": 55,
   "metadata": {},
   "outputs": [],
   "source": [
    "Nimply = namedtuple(\"Nimply\", \"row, num_objects\")\n"
   ]
  },
  {
   "cell_type": "code",
   "execution_count": 56,
   "metadata": {},
   "outputs": [],
   "source": [
    "class Nim:\n",
    "    def __init__(self, num_rows: int) -> None:\n",
    "        self._rows = [i * 2 + 1 for i in range(num_rows)]\n",
    "\n",
    "    def __bool__(self):\n",
    "        return sum(self._rows) > 0\n",
    "\n",
    "    def __str__(self):\n",
    "        return \"<\" + \" \".join(str(_) for _ in self._rows) + \">\"\n",
    "\n",
    "    @property\n",
    "    def rows(self) -> tuple:\n",
    "        return tuple(self._rows)\n",
    "\n",
    "    def nimming(self, ply: Nimply) -> None:\n",
    "        row, num_objects = ply\n",
    "        assert self._rows[row] >= num_objects\n",
    "        self._rows[row] -= num_objects\n"
   ]
  },
  {
   "cell_type": "markdown",
   "metadata": {},
   "source": [
    "## Sample (and silly) startegies "
   ]
  },
  {
   "cell_type": "code",
   "execution_count": 57,
   "metadata": {},
   "outputs": [],
   "source": [
    "def pure_random(state: Nim) -> Nimply:\n",
    "    \"\"\"A completely random move\"\"\"\n",
    "    row = random.choice([r for r, c in enumerate(state.rows) if c > 0])\n",
    "    num_objects = random.randint(1, state.rows[row])\n",
    "    return Nimply(row, num_objects)\n"
   ]
  },
  {
   "cell_type": "code",
   "execution_count": 58,
   "metadata": {},
   "outputs": [],
   "source": [
    "def take_from_last(state: Nim) -> Nimply:\n",
    "    \"\"\"Takes a random number from the last row\"\"\"\n",
    "    row = max([r for r, c in enumerate(state.rows) if c > 0])\n",
    "    num_objects = random.randint(1, state.rows[row])\n",
    "    return Nimply(row, num_objects)"
   ]
  },
  {
   "cell_type": "code",
   "execution_count": 59,
   "metadata": {},
   "outputs": [],
   "source": [
    "def take_from_first(state: Nim) -> Nimply:\n",
    "    \"\"\"Takes a random number from the first row\"\"\"\n",
    "    row = min([r for r, c in enumerate(state.rows) if c > 0])\n",
    "    num_objects = random.randint(1, state.rows[row])\n",
    "    return Nimply(row, num_objects)"
   ]
  },
  {
   "cell_type": "code",
   "execution_count": 60,
   "metadata": {},
   "outputs": [],
   "source": [
    "def gabriele(state: Nim) -> Nimply:\n",
    "    \"\"\"Pick always the maximum possible number of the lowest row\"\"\"\n",
    "    possible_moves = [(r, o) for r, c in enumerate(state.rows) for o in range(1, c + 1)]\n",
    "    return Nimply(*max(possible_moves, key=lambda m: (m[0], m[1])))\n"
   ]
  },
  {
   "cell_type": "code",
   "execution_count": 61,
   "metadata": {},
   "outputs": [],
   "source": [
    "def eleirbag(state: Nim) -> Nimply:\n",
    "    \"\"\"Pick always the maximum possible number of the highest row, the opposite of gabriele\"\"\"\n",
    "    possible_moves = [(r, o) for r, c in enumerate(state.rows) for o in range(1, c + 1)]\n",
    "    return Nimply(*max(possible_moves, key=lambda m: (-m[0], m[1])))"
   ]
  },
  {
   "cell_type": "code",
   "execution_count": 62,
   "metadata": {},
   "outputs": [],
   "source": [
    "import numpy as np\n",
    "\n",
    "\n",
    "def nim_sum(state: Nim) -> int:\n",
    "    tmp = np.array([tuple(int(x) for x in f\"{c:032b}\") for c in state.rows])\n",
    "    xor = tmp.sum(axis=0) % 2\n",
    "    return int(\"\".join(str(_) for _ in xor), base=2)\n",
    "\n",
    "\n",
    "def analize(raw: Nim) -> dict:\n",
    "    cooked = dict()\n",
    "    cooked[\"possible_moves\"] = dict()\n",
    "    for ply in (Nimply(r, o) for r, c in enumerate(raw.rows) for o in range(1, c + 1)):\n",
    "        tmp = deepcopy(raw)\n",
    "        tmp.nimming(ply)\n",
    "        cooked[\"possible_moves\"][ply] = nim_sum(tmp)\n",
    "    return cooked\n",
    "\n",
    "\n",
    "def optimal(state: Nim) -> Nimply:\n",
    "    analysis = analize(state)\n",
    "    logging.debug(f\"analysis:\\n{pformat(analysis)}\")\n",
    "    spicy_moves = [ply for ply, ns in analysis[\"possible_moves\"].items() if ns != 0]\n",
    "    if not spicy_moves:\n",
    "        spicy_moves = list(analysis[\"possible_moves\"].keys())\n",
    "    ply = random.choice(spicy_moves)\n",
    "    return ply\n"
   ]
  },
  {
   "attachments": {},
   "cell_type": "markdown",
   "metadata": {},
   "source": [
    "## Need to define a real optimal strategy\n",
    " This should be it, from [wikipedia](https://en.wikipedia.org/wiki/Nim)\n",
    "\n",
    " In other words, follow the common startegy (always try to leave the board in a state with nim-sum = 0), but when the move would leave only 1-sized heaps, in that case try to leave a odd number of such heaps"
   ]
  },
  {
   "cell_type": "code",
   "execution_count": 63,
   "metadata": {},
   "outputs": [],
   "source": [
    "def only_size1(state: Nim) -> bool:\n",
    "    return (sum(np.array(state.rows) == 1) + sum(np.array(state.rows) == 0)) == len(state.rows)\n",
    "\n",
    "def n_size1(state: Nim) -> int:\n",
    "    return sum(np.array(state.rows) == 1)\n",
    "\n",
    "def real_optimal(state: Nim) -> Nimply:\n",
    "    analysis = analize(state)\n",
    "    logging.debug(f\"analysis:\\n{pformat(analysis)}\")\n",
    "    spicy_moves = [ply for ply, ns in analysis[\"possible_moves\"].items() if ns == 0]\n",
    "    if not spicy_moves or nim_sum(state) == 0:\n",
    "        ply = random.choice(list(analysis[\"possible_moves\"].keys()))\n",
    "    else: #if only heaps of size 1, leave an odd number of them    \n",
    "        ply = random.choice(spicy_moves)\n",
    "        tmp = deepcopy(state)\n",
    "        tmp.nimming(ply)\n",
    "        if only_size1(tmp) and n_size1(tmp) % 2 == 0: #modify the play\n",
    "            if ply[1] < state.rows[ply[0]]:\n",
    "                return Nimply(ply[0], ply[1] + 1)\n",
    "            if ply[1] > 1:\n",
    "                return Nimply(ply[0], ply[1] - 1)\n",
    "    return ply"
   ]
  },
  {
   "cell_type": "markdown",
   "metadata": {},
   "source": [
    "## Oversimplified match"
   ]
  },
  {
   "cell_type": "code",
   "execution_count": 64,
   "metadata": {},
   "outputs": [
    {
     "name": "stderr",
     "output_type": "stream",
     "text": [
      "INFO:root:init : <1 3 5 7 9>\n",
      "INFO:root:ply: player 0 plays Nimply(row=0, num_objects=1)\n",
      "INFO:root:status: <0 3 5 7 9>\n",
      "INFO:root:ply: player 1 plays Nimply(row=4, num_objects=8)\n",
      "INFO:root:status: <0 3 5 7 1>\n",
      "INFO:root:ply: player 0 plays Nimply(row=1, num_objects=2)\n",
      "INFO:root:status: <0 1 5 7 1>\n",
      "INFO:root:ply: player 1 plays Nimply(row=3, num_objects=2)\n",
      "INFO:root:status: <0 1 5 5 1>\n",
      "INFO:root:ply: player 0 plays Nimply(row=1, num_objects=1)\n",
      "INFO:root:status: <0 0 5 5 1>\n",
      "INFO:root:ply: player 1 plays Nimply(row=3, num_objects=1)\n",
      "INFO:root:status: <0 0 5 4 1>\n",
      "INFO:root:ply: player 0 plays Nimply(row=2, num_objects=2)\n",
      "INFO:root:status: <0 0 3 4 1>\n",
      "INFO:root:ply: player 1 plays Nimply(row=3, num_objects=2)\n",
      "INFO:root:status: <0 0 3 2 1>\n",
      "INFO:root:ply: player 0 plays Nimply(row=2, num_objects=2)\n",
      "INFO:root:status: <0 0 1 2 1>\n",
      "INFO:root:ply: player 1 plays Nimply(row=3, num_objects=1)\n",
      "INFO:root:status: <0 0 1 1 1>\n",
      "INFO:root:ply: player 0 plays Nimply(row=2, num_objects=1)\n",
      "INFO:root:status: <0 0 0 1 1>\n",
      "INFO:root:ply: player 1 plays Nimply(row=3, num_objects=1)\n",
      "INFO:root:status: <0 0 0 0 1>\n",
      "INFO:root:ply: player 0 plays Nimply(row=4, num_objects=1)\n",
      "INFO:root:status: <0 0 0 0 0>\n",
      "INFO:root:status: Player 1 won!\n"
     ]
    }
   ],
   "source": [
    "logging.getLogger().setLevel(logging.INFO)\n",
    "\n",
    "strategy = (take_from_first, real_optimal)\n",
    "\n",
    "nim = Nim(5)\n",
    "logging.info(f\"init : {nim}\")\n",
    "player = 0\n",
    "while nim:\n",
    "    ply = strategy[player](nim)\n",
    "    logging.info(f\"ply: player {player} plays {ply}\")\n",
    "    nim.nimming(ply)\n",
    "    logging.info(f\"status: {nim}\")\n",
    "    player = 1 - player\n",
    "logging.info(f\"status: Player {player} won!\")"
   ]
  },
  {
   "cell_type": "code",
   "execution_count": 65,
   "metadata": {},
   "outputs": [
    {
     "name": "stdout",
     "output_type": "stream",
     "text": [
      "{<function real_optimal at 0x7f2930135900>: 1, <function pure_random at 0x7f2930136440>: 1, <function take_from_last at 0x7f29301364d0>: 1, <function take_from_first at 0x7f293019cdc0>: 1, <function eleirbag at 0x7f29301375b0>: 1}\n",
      "{<function real_optimal at 0x7f2930135900>: 0.921803718205494, <function pure_random at 0x7f2930136440>: 0.947778613975927, <function take_from_last at 0x7f29301364d0>: 1.1727273360976462, <function take_from_first at 0x7f293019cdc0>: 1.2463864394899824, <function eleirbag at 0x7f29301375b0>: 1.0594586833335222}\n"
     ]
    }
   ],
   "source": [
    "class adaptive_class:\n",
    "    def __init__(self, stdev = 0.2, stdev_step = 0.1) -> None:\n",
    "        self.strategy = real_optimal\n",
    "        self.stdev = stdev\n",
    "        self.stdev_step = stdev_step\n",
    "        self.genome = {real_optimal: 0, pure_random: 0, take_from_last: 0, take_from_first: 0, eleirbag: 0}\n",
    "        for k in self.genome.keys():\n",
    "            self.genome[k] = 1\n",
    "\n",
    "    def tweak(self) -> None:\n",
    "        \"\"\"randomly tweaks the genome of the object\"\"\"\n",
    "        for k in self.genome.keys():\n",
    "            self.genome[k] += np.random.normal(0, self.stdev) \n",
    "            self.genome[k] = 0 if self.genome[k] < 0 else self.genome[k] \n",
    "\n",
    "    def apply_rule(self, ratio) -> None:\n",
    "        \"\"\"modifies exploration/exploitation based on 1/5 rule\"\"\"\n",
    "        #ratio > 1/5 -> increase exploration -> increase stdev\n",
    "        self.stdev += self.stdev * self.stdev_step * (ratio - 0.2)\n",
    "\n",
    "    def reset_strategy(self) -> None:\n",
    "        \"\"\"resets the strategy to be used, call this before every match\"\"\"\n",
    "        a_random = random.random() * sum(self.genome.values())\n",
    "        k = real_optimal\n",
    "        for k in self.genome.keys():\n",
    "            a_random -= self.genome[k]\n",
    "            if a_random <= 0:\n",
    "                self.strategy = k\n",
    "                break \n",
    "\n",
    "    def adaptive(self, state: Nim) -> Nimply:\n",
    "        \"\"\"play a move, this strategy that can adapt its parameters\"\"\"\n",
    "        return self.strategy(state)  \n",
    "\n",
    "adaptive_obj = adaptive_class()\n",
    "adaptive_obj.adaptive(Nim(5))\n",
    "print(adaptive_obj.genome)\n",
    "adaptive_obj.tweak()\n",
    "print(adaptive_obj.genome)"
   ]
  },
  {
   "cell_type": "code",
   "execution_count": 66,
   "metadata": {},
   "outputs": [],
   "source": [
    "def play_game(strategy: tuple) -> int:\n",
    "    \"\"\"plays a game of nim(5) and returns the winning player index\"\"\"\n",
    "    nim = Nim(5)\n",
    "    player = 0\n",
    "    while nim:\n",
    "        ply = strategy[player](nim)\n",
    "        nim.nimming(ply)\n",
    "        player = 1 - player\n",
    "    return player\n",
    "    "
   ]
  },
  {
   "cell_type": "code",
   "execution_count": 67,
   "metadata": {},
   "outputs": [],
   "source": [
    "def getratio(adaptive_obj: adaptive_class, m_half) -> float: \n",
    "    \"\"\"return winning ratio of an adaptive strategy playing 100 games vs gabriele\"\"\"\n",
    "    wins = [0, 0]\n",
    "    strategy = (adaptive_obj.adaptive, gabriele)\n",
    "    for _ in range(m_half):\n",
    "        adaptive_obj.reset_strategy()\n",
    "        wins[play_game(strategy)] += 1\n",
    "    strategy = (gabriele, adaptive_obj.adaptive) \n",
    "    for _ in range(m_half):\n",
    "        adaptive_obj.reset_strategy()\n",
    "        wins[1 - play_game(strategy)] += 1   \n",
    "    return wins[0] / (wins[1] + 1)"
   ]
  },
  {
   "attachments": {},
   "cell_type": "markdown",
   "metadata": {},
   "source": [
    "## Adapting the strategy\n",
    " how does it work:\n",
    "  - we create $N$ copies of the original adaptive object\n",
    "  - for each copy, we play $M$ games against gabriele ($M/2$ going first, $M/2$ going second)\n",
    "  - we measure the winning rate = wins / total games\n",
    "  - we measure how many are better to apply the 1/5 rule\n",
    "  - we take the best among the $N/2$ and tweak the stdev based on 1/5 rule\n",
    "  - repeat many times and see the result"
   ]
  },
  {
   "cell_type": "code",
   "execution_count": 68,
   "metadata": {},
   "outputs": [
    {
     "name": "stdout",
     "output_type": "stream",
     "text": [
      "1.525\n"
     ]
    }
   ],
   "source": [
    "adaptive_obj = adaptive_class()\n",
    "ratio_prev = getratio(adaptive_obj, 50)\n",
    "print(ratio_prev)"
   ]
  },
  {
   "attachments": {},
   "cell_type": "markdown",
   "metadata": {},
   "source": [
    "You can run the cell below multiple times to check where is the genome going"
   ]
  },
  {
   "cell_type": "code",
   "execution_count": 69,
   "metadata": {},
   "outputs": [
    {
     "name": "stdout",
     "output_type": "stream",
     "text": [
      "probabilities:  [0.53210103 0.01782441 0.00839372 0.22886896 0.21281188]\n",
      "standard deviation:  0.026523911178950636\n",
      "{<function real_optimal at 0x7f2930135900>: 2.6350346280426233, <function pure_random at 0x7f2930136440>: 0.08826885626976655, <function take_from_last at 0x7f29301364d0>: 0.04156679693405979, <function take_from_first at 0x7f293019cdc0>: 1.1333893406020343, <function eleirbag at 0x7f29301375b0>: 1.0538725409013103}\n"
     ]
    }
   ],
   "source": [
    "N = 10\n",
    "M_HALF = 50\n",
    "USE_PLUS = True             #put this to False if a comma startegy is needed (maybe increase N if using comma strat)\n",
    "ITERATIONS = 100\n",
    "\n",
    "for _ in range(ITERATIONS):\n",
    "    offspring = []\n",
    "    ratios = []\n",
    "    for i in range(N):\n",
    "        offspring.append(deepcopy(adaptive_obj))\n",
    "        offspring[i].tweak()\n",
    "        ratios.append(getratio(offspring[i], M_HALF))\n",
    "\n",
    "    ratios = np.array(ratios)\n",
    "    best_index = ratios.argmax()\n",
    "    if USE_PLUS:\n",
    "        if ratios[best_index] > ratio_prev:\n",
    "            adaptive_obj = offspring[best_index]  \n",
    "            ratio_prev = ratios[best_index]\n",
    "    else:    \n",
    "        adaptive_obj = offspring[best_index]  \n",
    "    adaptive_obj.apply_rule((np.array(ratios) > ratio_prev).sum() / N)\n",
    "    ratio_prev = ratios.max()\n",
    "\n",
    "tmp = list(adaptive_obj.genome.values())\n",
    "print('probabilities: ', np.array(tmp) / sum(tmp))\n",
    "print('standard deviation: ', adaptive_obj.stdev)\n",
    "print(adaptive_obj.genome)"
   ]
  },
  {
   "attachments": {},
   "cell_type": "markdown",
   "metadata": {},
   "source": [
    "## Self-adaptive class\n",
    " the simulation is ran again, this time sigma is a learnable parameter"
   ]
  },
  {
   "cell_type": "code",
   "execution_count": 76,
   "metadata": {},
   "outputs": [
    {
     "name": "stdout",
     "output_type": "stream",
     "text": [
      "{<function real_optimal at 0x7f2930135900>: 1, <function pure_random at 0x7f2930136440>: 1, <function take_from_last at 0x7f29301364d0>: 1, <function take_from_first at 0x7f293019cdc0>: 1, <function eleirbag at 0x7f29301375b0>: 1} 1\n",
      "{<function real_optimal at 0x7f2930135900>: 0, <function pure_random at 0x7f2930136440>: 0, <function take_from_last at 0x7f29301364d0>: 49353.208204618284, <function take_from_first at 0x7f293019cdc0>: 0, <function eleirbag at 0x7f29301375b0>: 45317.21671139393} 526.9556597152076\n"
     ]
    }
   ],
   "source": [
    "class self_adaptive_class:\n",
    "    def __init__(self, lr, stdev = 1) -> None:\n",
    "        \"\"\"this strategy that can adapt its parameters\"\"\"\n",
    "        self.strategy = real_optimal\n",
    "        self.stdev = stdev\n",
    "        self.lr = lr\n",
    "        self.genome = {real_optimal: 0, pure_random: 0, take_from_last: 0, take_from_first: 0, eleirbag: 0}\n",
    "        for k in self.genome.keys():\n",
    "            self.genome[k] = 1\n",
    "\n",
    "    def tweak(self) -> None:\n",
    "        \"\"\"randomly tweaks the genome and stdev of the object\"\"\"\n",
    "        self.stdev *= np.exp((self.lr * np.random.normal(0, 1))) \n",
    "        for k in self.genome.keys():\n",
    "            self.genome[k] += np.random.normal(0, self.stdev ** 2) \n",
    "            self.genome[k] = 0 if self.genome[k] < 0 else self.genome[k] \n",
    "\n",
    "    def reset_strategy(self) -> None:\n",
    "        \"\"\"resets the strategy to be used, call this before every match\"\"\"\n",
    "        a_random = random.random() * sum(self.genome.values())\n",
    "        k = real_optimal\n",
    "        for k in self.genome.keys():\n",
    "            a_random -= self.genome[k]\n",
    "            if a_random <= 0:\n",
    "                self.strategy = k\n",
    "                break \n",
    "\n",
    "    def adaptive(self, state: Nim) -> Nimply:\n",
    "        \"\"\"play a move using the chosen strategy\"\"\"\n",
    "        return self.strategy(state)  \n",
    "\n",
    "adaptive_obj = self_adaptive_class(5)\n",
    "adaptive_obj.adaptive(Nim(5))\n",
    "print(adaptive_obj.genome, adaptive_obj.stdev)\n",
    "adaptive_obj.tweak()\n",
    "print(adaptive_obj.genome, adaptive_obj.stdev)"
   ]
  },
  {
   "cell_type": "code",
   "execution_count": 77,
   "metadata": {},
   "outputs": [
    {
     "name": "stdout",
     "output_type": "stream",
     "text": [
      "2.0606060606060606\n"
     ]
    }
   ],
   "source": [
    "adaptive_obj = self_adaptive_class(lr = 1 / np.sqrt(5))\n",
    "ratio_prev = getratio(adaptive_obj, 50)\n",
    "print(ratio_prev)"
   ]
  },
  {
   "cell_type": "code",
   "execution_count": 78,
   "metadata": {},
   "outputs": [
    {
     "name": "stdout",
     "output_type": "stream",
     "text": [
      "probabilities:  [0.98586821 0.00195945 0.         0.00471851 0.00745383]\n",
      "standard deviation:  0.21987279648407201\n",
      "{<function real_optimal at 0x7f2930135900>: 29.299210723286535, <function pure_random at 0x7f2930136440>: 0.0582331859255496, <function take_from_last at 0x7f29301364d0>: 0, <function take_from_first at 0x7f293019cdc0>: 0.14023033801818463, <function eleirbag at 0x7f29301375b0>: 0.22152195624907278}\n"
     ]
    }
   ],
   "source": [
    "for _ in range(ITERATIONS):\n",
    "    offspring = []\n",
    "    ratios = []\n",
    "    for i in range(N):\n",
    "        offspring.append(deepcopy(adaptive_obj))\n",
    "        offspring[i].tweak()\n",
    "        ratios.append(getratio(offspring[i], M_HALF))\n",
    "\n",
    "    ratios = np.array(ratios)\n",
    "    best_index = ratios.argmax()\n",
    "    if USE_PLUS:\n",
    "        if ratios[best_index] > ratio_prev:\n",
    "            adaptive_obj = offspring[best_index]  \n",
    "            ratio_prev = ratios[best_index]\n",
    "    else:    \n",
    "        adaptive_obj = offspring[best_index]  \n",
    "    ratio_prev = ratios.max()\n",
    "\n",
    "tmp = list(adaptive_obj.genome.values())\n",
    "print('probabilities: ', np.array(tmp) / sum(tmp))\n",
    "print('standard deviation: ', adaptive_obj.stdev)\n",
    "print(adaptive_obj.genome)"
   ]
  }
 ],
 "metadata": {
  "kernelspec": {
   "display_name": "Python 3.10.7 ('ci22-dPIXJ0_o-py3.10')",
   "language": "python",
   "name": "python3"
  },
  "language_info": {
   "codemirror_mode": {
    "name": "ipython",
    "version": 3
   },
   "file_extension": ".py",
   "mimetype": "text/x-python",
   "name": "python",
   "nbconvert_exporter": "python",
   "pygments_lexer": "ipython3",
   "version": "3.10.12"
  },
  "vscode": {
   "interpreter": {
    "hash": "10197e8e2f2aa67e2c349105091c77f4cd384fce4877865f002d9ec653f96bc0"
   }
  }
 },
 "nbformat": 4,
 "nbformat_minor": 2
}
